{
 "cells": [
  {
   "cell_type": "markdown",
   "id": "9f265b8f-599b-42b0-bc3e-3aa2c2fce547",
   "metadata": {},
   "source": [
    "# EcoMetricx Take Home\n",
    "\n",
    "You will be given a PDF document that contains both textual and graphical data. Your task is to:\n",
    "\n",
    "* Extract the textual and graphical information from the PDF pages.\n",
    "* Convert the extracted graphical data (such as charts or graphs) into a structured, queryable format.\n",
    "* Implement a system where users can ask questions and receive meaningful responses based on the extracted data.\n",
    "\n",
    "\n",
    "Requirements:\n",
    "* Document your approach and display your results in a Jupyter notebook (.ipynb)\n",
    "* Your solution should allow users to query both the extracted text and any data that was derived from the graphical elements (such as tables).\n",
    "* Provide brief explanations of your approach, choices made, and any challenges you encountered."
   ]
  },
  {
   "cell_type": "markdown",
   "id": "68f281b9-d369-420b-b25e-4934592d3e58",
   "metadata": {},
   "source": [
    "---"
   ]
  },
  {
   "attachments": {},
   "cell_type": "markdown",
   "id": "ed888d98-e93a-4a94-bd2e-22d489c60baa",
   "metadata": {},
   "source": [
    "## Solution Overview\n",
    "\n",
    "To tackle the the requirements listed above I will leverage a **Multimodal RAG** (Retrieval Augmented Generation). An overall architecture is shown below:\n",
    "![architecture overview](diagrams/architecture%20overview.png)\n",
    "\n",
    "The diagram starts with the input PDF file. The `unstructured` Python library is used to extract both textual and image content from the document. Text and image summarization models then generate summaries and captions based on the extracted content. These outputs are stored in a vector-document database, enabling retrieval in response to user queries. Additionally, a general-purpose LLM can be used to generate answers based on the top documents retrieved from the vector-document database. This entire multimodal RAG workflow is made possible through extensive use of the `LangChain` framework, which orchestrates the components for document loading, embedding, retrieval, and response generation.\n",
    "\n",
    "---"
   ]
  },
  {
   "cell_type": "markdown",
   "id": "194d206b-cd2c-429b-9c29-99d759ecfb61",
   "metadata": {
    "execution": {
     "iopub.execute_input": "2025-07-17T14:14:45.967447Z",
     "iopub.status.busy": "2025-07-17T14:14:45.966443Z",
     "iopub.status.idle": "2025-07-17T14:14:45.978345Z",
     "shell.execute_reply": "2025-07-17T14:14:45.977759Z",
     "shell.execute_reply.started": "2025-07-17T14:14:45.967447Z"
    }
   },
   "source": [
    "## Environment Setup\n",
    "**Python**\n",
    "\n",
    "- Using Python version 3.9.11\n",
    "- Create virtual environment and activate \\\n",
    "`python -m venv .venv` \\\n",
    "`.venv/Scripts/activate`\n",
    "\n",
    "- Install dependencies \\\n",
    "`pip install -r requirements.txt`\n",
    "\n",
    "- Start jupyterlab access at [http://localhost:8888/lab](http://localhost:8888/lab) \\\n",
    "`python -m jupyter lab`\n",
    "\n",
    "**Unstructured Python Library dependency to properly read PDF**\n",
    "\n",
    "- Download [Poppler](https://github.com/oschwartz10612/poppler-windows/releases) extract and put bin directory to your `PATH`\n",
    "- Download and install [Tesseract](https://github.com/UB-Mannheim/tesseract/wiki) put bin directory to your `PATH`\n",
    "\n",
    "**Ollama Setup (Will act as LLM generator)**\n",
    "\n",
    "- Install [Ollama](https://ollama.com/download)\n",
    "- Get a model \\\n",
    "`ollama pull <model_name>` \\\n",
    "e.g. `ollama pull gemma2`\n",
    "- List models \\\n",
    "`ollama list`\n",
    "\n",
    "---"
   ]
  },
  {
   "cell_type": "markdown",
   "id": "94659bbd-34da-4ca3-9de5-dd65e8fbb72f",
   "metadata": {
    "execution": {
     "iopub.execute_input": "2025-07-17T14:32:54.229055Z",
     "iopub.status.busy": "2025-07-17T14:32:54.229055Z",
     "iopub.status.idle": "2025-07-17T14:32:54.238588Z",
     "shell.execute_reply": "2025-07-17T14:32:54.238588Z",
     "shell.execute_reply.started": "2025-07-17T14:32:54.229055Z"
    }
   },
   "source": [
    "## Directory Structure\n",
    "\n",
    "- `\\data\\` - Contains the singular PDF file\n",
    "- `\\diagrams\\` - Contains supplementary images and drawio diagram\n",
    "- `helper.py` – Contains utility functions to keep the notebook clean and organized\n",
    "- `rag_ecometricx.ipynb` - Main jupyter notebook\n",
    "- `rag_ecometricx.html` - HTML export incase images are broken in notebook\n",
    "- `rag_ecometricx.pdf` - PDF export incase images are broken in notebook\n",
    "- `README.md` - README\n",
    "- `requirements.txt` - Python dependencies"
   ]
  },
  {
   "cell_type": "markdown",
   "id": "c4452cec-333d-4bad-bc16-28a09dda52f2",
   "metadata": {
    "execution": {
     "iopub.execute_input": "2025-07-17T14:30:35.546456Z",
     "iopub.status.busy": "2025-07-17T14:30:35.546456Z",
     "iopub.status.idle": "2025-07-17T14:30:35.560723Z",
     "shell.execute_reply": "2025-07-17T14:30:35.559717Z",
     "shell.execute_reply.started": "2025-07-17T14:30:35.546456Z"
    }
   },
   "source": [
    "## Python Imports"
   ]
  },
  {
   "cell_type": "code",
   "execution_count": 1,
   "id": "8851ffb4-65e1-4ede-852f-0acd7586221b",
   "metadata": {
    "execution": {
     "iopub.execute_input": "2025-07-18T05:17:41.132823Z",
     "iopub.status.busy": "2025-07-18T05:17:41.132823Z",
     "iopub.status.idle": "2025-07-18T05:17:50.834134Z",
     "shell.execute_reply": "2025-07-18T05:17:50.832401Z",
     "shell.execute_reply.started": "2025-07-18T05:17:41.132823Z"
    }
   },
   "outputs": [],
   "source": [
    "import base64\n",
    "import uuid\n",
    "from base64 import b64decode\n",
    "from io import BytesIO\n",
    "\n",
    "from IPython.display import HTML, Image, Markdown, display\n",
    "from transformers import pipeline\n",
    "\n",
    "from langchain_core.output_parsers import StrOutputParser\n",
    "from langchain_core.prompts import ChatPromptTemplate\n",
    "from langchain_core.runnables import RunnableLambda, RunnablePassthrough\n",
    "from langchain_core.messages import HumanMessage\n",
    "from langchain_community.embeddings import OllamaEmbeddings\n",
    "from langchain_community.llms import Ollama\n",
    "from langchain_huggingface import HuggingFaceEmbeddings\n",
    "from langchain_chroma import Chroma\n",
    "from langchain_ollama import OllamaLLM\n",
    "from langchain.schema.document import Document\n",
    "from langchain.storage import InMemoryStore\n",
    "from langchain.retrievers.multi_vector import MultiVectorRetriever\n",
    "\n",
    "from unstructured.partition.pdf import partition_pdf\n",
    "\n",
    "# from helper.py custom utility functions\n",
    "from helper import get_images_base64, display_base64_image, parse_docs, build_prompt, get_text_summaries, query_and_validate"
   ]
  },
  {
   "cell_type": "markdown",
   "id": "fe1be57c-633b-4e64-a473-9df4d9222f25",
   "metadata": {},
   "source": [
    "## Set Important Variables\n",
    "- **`pdf_file_path`**: Path to the input PDF file.  \n",
    "- **`caption_model_name`**: Model used for generating captions from images.\n",
    "- **`text_summary_model_name`**: Model used for text summarization\n",
    "- **`text_embedding_model_name`**: Model for embedding text into vectors for retrieval.  \n",
    "- **`ollama_model_name`**: Ollama model used for question and answering questions.  "
   ]
  },
  {
   "cell_type": "code",
   "execution_count": 2,
   "id": "4dd3653f-957b-4149-85ec-e0bb1209e00a",
   "metadata": {
    "execution": {
     "iopub.execute_input": "2025-07-18T05:17:50.835162Z",
     "iopub.status.busy": "2025-07-18T05:17:50.834134Z",
     "iopub.status.idle": "2025-07-18T05:17:50.849253Z",
     "shell.execute_reply": "2025-07-18T05:17:50.848247Z",
     "shell.execute_reply.started": "2025-07-18T05:17:50.835162Z"
    }
   },
   "outputs": [],
   "source": [
    "pdf_file_path = \"data/test_info_extract.pdf\"\n",
    "caption_model_name = \"microsoft/git-base\"                         # HuggingFace\n",
    "text_summary_model_name = \"gemma2:2b\"                             # Ollama\n",
    "text_embedding_model_name = \"BAAI/bge-large-en-v1.5\"              # HuggingFace\n",
    "ollama_model_name = \"gemma3\"                                      # Ollama"
   ]
  },
  {
   "cell_type": "markdown",
   "id": "cbacd275-8c84-46f3-ad1e-eb4625f012f3",
   "metadata": {},
   "source": [
    "## Data Ingestion: Getting Chunks from PDF input\n",
    "\n",
    "This section uses the unstructured library's `partition_pdf` function to split a PDF into more defined chunks (like images and text) for further processing for use in RAG (Retrieval-Augmented Generation). More information of playing aorund the parameters are found here:\n",
    "- [https://docs.unstructured.io/api-reference/partition/partitioning](https://docs.unstructured.io/api-reference/partition/partitioning)"
   ]
  },
  {
   "cell_type": "code",
   "execution_count": 3,
   "id": "7da34a69-dc58-4911-8751-0880f1f365ad",
   "metadata": {
    "execution": {
     "iopub.execute_input": "2025-07-18T05:17:50.850253Z",
     "iopub.status.busy": "2025-07-18T05:17:50.849253Z",
     "iopub.status.idle": "2025-07-18T05:18:04.497510Z",
     "shell.execute_reply": "2025-07-18T05:18:04.496503Z",
     "shell.execute_reply.started": "2025-07-18T05:17:50.850253Z"
    }
   },
   "outputs": [
    {
     "name": "stderr",
     "output_type": "stream",
     "text": [
      "The `max_size` parameter is deprecated and will be removed in v4.26. Please specify in `size['longest_edge'] instead`.\n"
     ]
    }
   ],
   "source": [
    "chunks = partition_pdf(\n",
    "    filename=pdf_file_path,\n",
    "    infer_table_structure=True,\n",
    "    strategy=\"hi_res\",                     # mandatory to infer tables, other values ocr_only, auto, vlm,  \n",
    "    extract_image_block_types=[\"Image\", \"Table\"],   # Add 'Table' to list to extract image of tables\n",
    "    extract_image_block_to_payload=True,   # if true, will extract base64 for API usage\n",
    "    chunking_strategy=\"by_title\",          # or 'basic'\n",
    "    max_characters=10000,                  # defaults to 500\n",
    "    combine_text_under_n_chars=2000,       # defaults to 0\n",
    "    new_after_n_chars=6000,\n",
    "    mage_output_dir_path=\"/images/\"\n",
    ")"
   ]
  },
  {
   "cell_type": "markdown",
   "id": "ecacb189-61b2-4989-80f0-012a72a6a511",
   "metadata": {},
   "source": [
    "Check data type of chunks, expecting:\n",
    "- `unstructured.documents.elements.CompositeElement` (Text and Image)\n",
    "- `unstructured.documents.elements.Table` (Tables if there are any)"
   ]
  },
  {
   "cell_type": "code",
   "execution_count": 4,
   "id": "594e92be-2e00-4901-b355-f7d7b7d547dc",
   "metadata": {
    "execution": {
     "iopub.execute_input": "2025-07-18T05:18:04.500016Z",
     "iopub.status.busy": "2025-07-18T05:18:04.498511Z",
     "iopub.status.idle": "2025-07-18T05:18:04.513349Z",
     "shell.execute_reply": "2025-07-18T05:18:04.512844Z",
     "shell.execute_reply.started": "2025-07-18T05:18:04.500016Z"
    }
   },
   "outputs": [
    {
     "data": {
      "text/plain": [
       "{\"<class 'unstructured.documents.elements.CompositeElement'>\"}"
      ]
     },
     "execution_count": 4,
     "metadata": {},
     "output_type": "execute_result"
    }
   ],
   "source": [
    "set([str(type(el)) for el in chunks])"
   ]
  },
  {
   "cell_type": "markdown",
   "id": "eddf34ad-79ca-49b1-9c59-34526c9cb9ab",
   "metadata": {},
   "source": [
    "Looks like we only have images and texts on our chunks. Let's try to see the number of chunks we have:"
   ]
  },
  {
   "cell_type": "code",
   "execution_count": 5,
   "id": "71662f95-6040-40c2-8e4f-6ee4d9240e6d",
   "metadata": {
    "execution": {
     "iopub.execute_input": "2025-07-18T05:18:04.514984Z",
     "iopub.status.busy": "2025-07-18T05:18:04.514984Z",
     "iopub.status.idle": "2025-07-18T05:18:04.529465Z",
     "shell.execute_reply": "2025-07-18T05:18:04.528460Z",
     "shell.execute_reply.started": "2025-07-18T05:18:04.514984Z"
    }
   },
   "outputs": [
    {
     "data": {
      "text/plain": [
       "1"
      ]
     },
     "execution_count": 5,
     "metadata": {},
     "output_type": "execute_result"
    }
   ],
   "source": [
    "len(chunks)"
   ]
  },
  {
   "cell_type": "markdown",
   "id": "f3e94b32-1185-45da-93f4-6415ddb4ff55",
   "metadata": {},
   "source": [
    "I think this is expected as we only have one short PDF file with limited content. Let's look at the unique specific types we have under `CompositeElement`:"
   ]
  },
  {
   "cell_type": "code",
   "execution_count": 6,
   "id": "1a74e8a6-9f0d-46cd-9833-9549395abc5b",
   "metadata": {
    "execution": {
     "iopub.execute_input": "2025-07-18T05:18:04.531459Z",
     "iopub.status.busy": "2025-07-18T05:18:04.530465Z",
     "iopub.status.idle": "2025-07-18T05:18:04.545201Z",
     "shell.execute_reply": "2025-07-18T05:18:04.543974Z",
     "shell.execute_reply.started": "2025-07-18T05:18:04.530465Z"
    }
   },
   "outputs": [
    {
     "data": {
      "text/plain": [
       "{'unstructured.documents.elements.Image',\n",
       " 'unstructured.documents.elements.NarrativeText',\n",
       " 'unstructured.documents.elements.Text',\n",
       " 'unstructured.documents.elements.Title'}"
      ]
     },
     "execution_count": 6,
     "metadata": {},
     "output_type": "execute_result"
    }
   ],
   "source": [
    "set([type(element).__module__ + \".\" + type(element).__name__ for element in chunks[0].metadata.orig_elements])"
   ]
  },
  {
   "cell_type": "markdown",
   "id": "9aafa856-17c9-4515-805b-393f41676118",
   "metadata": {},
   "source": [
    "It`s composed of images and various textual types.\n",
    "\n",
    "---"
   ]
  },
  {
   "cell_type": "markdown",
   "id": "893c6186-28fe-4baa-8ee9-7505148270eb",
   "metadata": {},
   "source": [
    "## Segregating Images and Texts"
   ]
  },
  {
   "cell_type": "markdown",
   "id": "c235e4cc-3007-4c00-a5e2-eb05fc5e12d9",
   "metadata": {},
   "source": [
    "### Separating Tables from Texts"
   ]
  },
  {
   "cell_type": "markdown",
   "id": "b84db0f2-cd8b-4bbf-bf4b-14de0411ead3",
   "metadata": {},
   "source": [
    "Since there are no tables tables chunk is empty and so most of the contents will be inside `texts`"
   ]
  },
  {
   "cell_type": "code",
   "execution_count": 7,
   "id": "35ef8314-4268-4f46-9008-b7be7d5c898b",
   "metadata": {
    "execution": {
     "iopub.execute_input": "2025-07-18T05:18:04.546219Z",
     "iopub.status.busy": "2025-07-18T05:18:04.545201Z",
     "iopub.status.idle": "2025-07-18T05:18:04.560194Z",
     "shell.execute_reply": "2025-07-18T05:18:04.559193Z",
     "shell.execute_reply.started": "2025-07-18T05:18:04.546219Z"
    }
   },
   "outputs": [],
   "source": [
    "tables = []\n",
    "texts = []\n",
    "\n",
    "for chunk in chunks:\n",
    "    if \"Table\" in str(type(chunk)):\n",
    "        tables.append(chunk)\n",
    "\n",
    "    if \"CompositeElement\" in str(type((chunk))):\n",
    "        texts.append(chunk)"
   ]
  },
  {
   "cell_type": "code",
   "execution_count": 8,
   "id": "5bb38c1f-ae13-41a1-a032-6729bd4335ed",
   "metadata": {
    "execution": {
     "iopub.execute_input": "2025-07-18T05:18:04.561193Z",
     "iopub.status.busy": "2025-07-18T05:18:04.561193Z",
     "iopub.status.idle": "2025-07-18T05:18:04.576118Z",
     "shell.execute_reply": "2025-07-18T05:18:04.575050Z",
     "shell.execute_reply.started": "2025-07-18T05:18:04.561193Z"
    }
   },
   "outputs": [
    {
     "name": "stdout",
     "output_type": "stream",
     "text": [
      "0\n",
      "1\n"
     ]
    }
   ],
   "source": [
    "print(len(tables))\n",
    "print(len(texts))"
   ]
  },
  {
   "cell_type": "markdown",
   "id": "de9b3257-380f-4ca2-9e8d-84a9cdba488a",
   "metadata": {},
   "source": [
    "### Getting Images"
   ]
  },
  {
   "cell_type": "markdown",
   "id": "9e3b1807-3feb-4a7b-bc80-396a406fbebc",
   "metadata": {},
   "source": [
    "Getting images from our chunk we assign it to the `images` variable, with the help of helper function `get_images_base64` to get the image chunks and `display_base64_image` to display them. Upon checking the images list we seem to have 11 images extracted"
   ]
  },
  {
   "cell_type": "code",
   "execution_count": 9,
   "id": "b0b098c4-38f3-428e-bd90-3cd1e2d631ca",
   "metadata": {
    "execution": {
     "iopub.execute_input": "2025-07-18T05:18:04.577118Z",
     "iopub.status.busy": "2025-07-18T05:18:04.577118Z",
     "iopub.status.idle": "2025-07-18T05:18:04.591188Z",
     "shell.execute_reply": "2025-07-18T05:18:04.590187Z",
     "shell.execute_reply.started": "2025-07-18T05:18:04.577118Z"
    }
   },
   "outputs": [],
   "source": [
    "images = get_images_base64(chunks)"
   ]
  },
  {
   "cell_type": "code",
   "execution_count": 10,
   "id": "808791ff-6d30-4a3a-aefa-98b59090e35f",
   "metadata": {
    "execution": {
     "iopub.execute_input": "2025-07-18T05:18:04.593451Z",
     "iopub.status.busy": "2025-07-18T05:18:04.592440Z",
     "iopub.status.idle": "2025-07-18T05:18:04.606432Z",
     "shell.execute_reply": "2025-07-18T05:18:04.605433Z",
     "shell.execute_reply.started": "2025-07-18T05:18:04.592947Z"
    }
   },
   "outputs": [
    {
     "data": {
      "text/plain": [
       "11"
      ]
     },
     "execution_count": 10,
     "metadata": {},
     "output_type": "execute_result"
    }
   ],
   "source": [
    "len(images)"
   ]
  },
  {
   "cell_type": "markdown",
   "id": "96483b74-ff06-479a-9fcb-c3838feadcd6",
   "metadata": {},
   "source": [
    "Displaying some images for us to inspect:"
   ]
  },
  {
   "cell_type": "code",
   "execution_count": 11,
   "id": "ced32e67-83cb-47c2-a127-c35dcd6848b7",
   "metadata": {
    "execution": {
     "iopub.execute_input": "2025-07-18T05:18:04.607433Z",
     "iopub.status.busy": "2025-07-18T05:18:04.607433Z",
     "iopub.status.idle": "2025-07-18T05:18:04.636461Z",
     "shell.execute_reply": "2025-07-18T05:18:04.636461Z",
     "shell.execute_reply.started": "2025-07-18T05:18:04.607433Z"
    }
   },
   "outputs": [
    {
     "data": {
      "image/jpeg": "[encoded data removed]",
      "text/plain": [
       "<IPython.core.display.Image object>"
      ]
     },
     "metadata": {
      "image/jpeg": {
       "width": 800
      }
     },
     "output_type": "display_data"
    },
    {
     "data": {
      "image/jpeg": "[encoded data removed]",
      "text/plain": [
       "<IPython.core.display.Image object>"
      ]
     },
     "metadata": {
      "image/jpeg": {
       "width": 400
      }
     },
     "output_type": "display_data"
    },
    {
     "data": {
      "image/jpeg": "[encoded data removed]",
      "text/plain": [
       "<IPython.core.display.Image object>"
      ]
     },
     "metadata": {
      "image/jpeg": {
       "width": 200
      }
     },
     "output_type": "display_data"
    }
   ],
   "source": [
    "display_base64_image(images[7], 800)\n",
    "display_base64_image(images[3], 400)\n",
    "display_base64_image(images[9], 200)"
   ]
  },
  {
   "cell_type": "markdown",
   "id": "aac7fd74-7361-47f7-8f8e-a54a74dee4a0",
   "metadata": {},
   "source": [
    "---"
   ]
  },
  {
   "cell_type": "markdown",
   "id": "be7dd928-f56b-4455-a3a4-0dc0404c684f",
   "metadata": {},
   "source": [
    "## Text Summary and Image Caption"
   ]
  },
  {
   "cell_type": "markdown",
   "id": "c9891350-e24c-4167-af09-5b91110d3267",
   "metadata": {
    "execution": {
     "iopub.execute_input": "2025-07-17T15:10:28.800791Z",
     "iopub.status.busy": "2025-07-17T15:10:28.800791Z",
     "iopub.status.idle": "2025-07-17T15:10:28.809642Z",
     "shell.execute_reply": "2025-07-17T15:10:28.808461Z",
     "shell.execute_reply.started": "2025-07-17T15:10:28.800791Z"
    }
   },
   "source": [
    "### Text Summary\n",
    "\n",
    "For the text summary, I’ll use one of the Ollama models ([gemma2:2b](https://ollama.com/library/gemma2)) to summarize our text chunk with the help of one of the helper function `get_text_summaries`"
   ]
  },
  {
   "cell_type": "code",
   "execution_count": 12,
   "id": "f1a69487-b53b-45cc-bc54-3f3b8f497b8d",
   "metadata": {
    "execution": {
     "iopub.execute_input": "2025-07-18T05:18:04.638975Z",
     "iopub.status.busy": "2025-07-18T05:18:04.637967Z",
     "iopub.status.idle": "2025-07-18T05:18:07.920157Z",
     "shell.execute_reply": "2025-07-18T05:18:07.919149Z",
     "shell.execute_reply.started": "2025-07-18T05:18:04.638975Z"
    }
   },
   "outputs": [
    {
     "data": {
      "text/plain": [
       "[\"This report analyzes electricity usage for a home with account number 954137 at 1627 Tulip Lane. The user's energy consumption is above typical levels and they can save up to 6% by doing full laundry loads.  The report provides tailored tips for energy saving, including caulking windows and doors, charging EVs overnight, adjusting thermostat settings, and pre-heating homes on cold days. It also highlights the importance of a home energy audit for further efficiency improvements. \\n\"]"
      ]
     },
     "execution_count": 12,
     "metadata": {},
     "output_type": "execute_result"
    }
   ],
   "source": [
    "text_summary = get_text_summaries(text_summary_model_name, texts)\n",
    "text_summary"
   ]
  },
  {
   "cell_type": "markdown",
   "id": "04d0e147-d40d-475d-9590-4d77dd56eeb4",
   "metadata": {
    "execution": {
     "iopub.execute_input": "2025-07-17T13:30:12.799076Z",
     "iopub.status.busy": "2025-07-17T13:30:12.799076Z",
     "iopub.status.idle": "2025-07-17T13:30:12.813518Z",
     "shell.execute_reply": "2025-07-17T13:30:12.813518Z",
     "shell.execute_reply.started": "2025-07-17T13:30:12.799076Z"
    }
   },
   "source": [
    "### Image captioning\n",
    "\n",
    "For image captioning, I’m using the HuggingFace model ([microsoft/git-base](https://huggingface.co/microsoft/git-base)). While it’s not the most advanced model for generating detailed descriptions, especially for complex visuals like charts, it performs reasonably well for basic captioning tasks. Some of the more capable image-to-text models, such as those from OpenAI, Amazon Bedrock, etc., offer better results but are currently behind a paywall."
   ]
  },
  {
   "cell_type": "code",
   "execution_count": 13,
   "id": "a3f1507f-e107-4899-a59b-a46adc5d4e5f",
   "metadata": {
    "execution": {
     "iopub.execute_input": "2025-07-18T05:18:07.923184Z",
     "iopub.status.busy": "2025-07-18T05:18:07.922184Z",
     "iopub.status.idle": "2025-07-18T05:18:41.506161Z",
     "shell.execute_reply": "2025-07-18T05:18:41.505656Z",
     "shell.execute_reply.started": "2025-07-18T05:18:07.923184Z"
    }
   },
   "outputs": [
    {
     "name": "stderr",
     "output_type": "stream",
     "text": [
      "Using a slow image processor as `use_fast` is unset and a slow processor was saved with this model. `use_fast=True` will be the default behavior in v4.52, even if the model was saved with a slow processor. This will result in minor differences in outputs. You'll still be able to use a slow processor with `use_fast=False`.\n",
      "Device set to use cpu\n"
     ]
    }
   ],
   "source": [
    "captioner = pipeline(\n",
    "    \"image-to-text\", \n",
    "    model=caption_model_name,\n",
    "    device=0,\n",
    "    use_fast=True\n",
    ")\n",
    "img_cap_list = []\n",
    "for image in images:\n",
    "    caption = captioner(image)[0][\"generated_text\"]\n",
    "    img_cap_list.append(caption)"
   ]
  },
  {
   "cell_type": "markdown",
   "id": "29e28e40-1b19-42c2-a8d7-14fde317b1db",
   "metadata": {},
   "source": [
    "Checking the caption on the displayed image of a chart earlier:"
   ]
  },
  {
   "cell_type": "code",
   "execution_count": 14,
   "id": "1507a36a-93b3-44ea-ad64-b1848132eb17",
   "metadata": {
    "execution": {
     "iopub.execute_input": "2025-07-18T05:18:41.507166Z",
     "iopub.status.busy": "2025-07-18T05:18:41.507166Z",
     "iopub.status.idle": "2025-07-18T05:18:41.522215Z",
     "shell.execute_reply": "2025-07-18T05:18:41.521018Z",
     "shell.execute_reply.started": "2025-07-18T05:18:41.507166Z"
    }
   },
   "outputs": [
    {
     "name": "stdout",
     "output_type": "stream",
     "text": [
      "a line graph showing the line of the line.\n",
      "what are the different types of homes in the area?\n",
      "this is a picture of a hammer on a white background. i like the orange in the middle.\n"
     ]
    }
   ],
   "source": [
    "print(img_cap_list[7])\n",
    "print(img_cap_list[3])\n",
    "print(img_cap_list[9])"
   ]
  },
  {
   "cell_type": "markdown",
   "id": "6fcae5ab-2079-45dd-a022-1e2008104706",
   "metadata": {},
   "source": [
    "The captioning is kind of good but not good enough. For the purpose of getting a good retreival in the later steps lets just assume our captioning model did great and made this caption on the elecricity consumption graph:"
   ]
  },
  {
   "cell_type": "code",
   "execution_count": 15,
   "id": "f1f4035f-429b-4b2a-964a-d180d4b236c4",
   "metadata": {
    "execution": {
     "iopub.execute_input": "2025-07-18T05:18:41.523728Z",
     "iopub.status.busy": "2025-07-18T05:18:41.522215Z",
     "iopub.status.idle": "2025-07-18T05:18:41.537689Z",
     "shell.execute_reply": "2025-07-18T05:18:41.536690Z",
     "shell.execute_reply.started": "2025-07-18T05:18:41.523728Z"
    }
   },
   "outputs": [],
   "source": [
    "img_cap_list[7] = \"line graph showing electricity consumption\""
   ]
  },
  {
   "cell_type": "markdown",
   "id": "fcfdbde5-12ba-41b7-962a-0f480636a264",
   "metadata": {},
   "source": [
    "## Setting Up the Vector and Document Store\n",
    "\n",
    "Here, we use ChromaDB as the vector store and an in-memory store for the documents. Each summary and corresponding document will be assigned a doc_id to support retrieval later on. The embedding model used here for the vector embeddings is a version of the FlagEmbedding model ([BAAI/bge-large-en-v1.5](https://huggingface.co/BAAI/bge-large-en-v1.5)) which is focused on retrieval-augmented LLMs.\n",
    "\n",
    "Vector and Document Databases in this use case are not persistently stored for the simplicity of this exercise but one can set them up to be store in a persistent and durable database or store."
   ]
  },
  {
   "cell_type": "code",
   "execution_count": 16,
   "id": "334d9bce-25dc-43b6-9137-457089de9a4b",
   "metadata": {
    "execution": {
     "iopub.execute_input": "2025-07-18T05:18:41.538701Z",
     "iopub.status.busy": "2025-07-18T05:18:41.538701Z",
     "iopub.status.idle": "2025-07-18T05:18:46.514815Z",
     "shell.execute_reply": "2025-07-18T05:18:46.513810Z",
     "shell.execute_reply.started": "2025-07-18T05:18:41.538701Z"
    }
   },
   "outputs": [],
   "source": [
    "embeddings = HuggingFaceEmbeddings(model_name='BAAI/bge-large-en-v1.5')\n",
    "\n",
    "vector_store = Chroma(\n",
    "    collection_name=\"rag_vector_store\",\n",
    "    embedding_function=embeddings,\n",
    ")\n",
    "store = InMemoryStore()\n",
    "id_key = \"doc_id\"\n",
    "\n",
    "retriever = MultiVectorRetriever(\n",
    "    vectorstore=vector_store,\n",
    "    docstore=store,\n",
    "    id_key=id_key,\n",
    ")"
   ]
  },
  {
   "cell_type": "code",
   "execution_count": 17,
   "id": "7ffa5abe-a453-4bdb-a2f6-3b19fc0adce7",
   "metadata": {
    "execution": {
     "iopub.execute_input": "2025-07-18T05:18:46.515318Z",
     "iopub.status.busy": "2025-07-18T05:18:46.515318Z",
     "iopub.status.idle": "2025-07-18T05:18:47.578082Z",
     "shell.execute_reply": "2025-07-18T05:18:47.578082Z",
     "shell.execute_reply.started": "2025-07-18T05:18:46.515318Z"
    }
   },
   "outputs": [],
   "source": [
    "doc_ids = [str(uuid.uuid4()) for _ in texts]\n",
    "summary_texts = [\n",
    "    Document(page_content=summary, metadata={id_key: doc_ids[i]}) for i, summary in enumerate(text_summary)\n",
    "]\n",
    "retriever.vectorstore.add_documents(summary_texts)\n",
    "retriever.docstore.mset(list(zip(doc_ids, texts)))\n",
    "\n",
    "img_ids = [str(uuid.uuid4()) for _ in images]\n",
    "summary_img = [\n",
    "    Document(page_content=summary, metadata={id_key: img_ids[i]}) for i, summary in enumerate(img_cap_list)\n",
    "]\n",
    "retriever.vectorstore.add_documents(summary_img)\n",
    "retriever.docstore.mset(list(zip(img_ids, images)))"
   ]
  },
  {
   "cell_type": "markdown",
   "id": "81ca30e4-8644-4fc6-9cf3-c4cc13391bad",
   "metadata": {},
   "source": [
    "---"
   ]
  },
  {
   "cell_type": "markdown",
   "id": "a672d29e-7416-49cb-a6b9-6c9a4887c873",
   "metadata": {},
   "source": [
    "## Retrieval from the Vector and Document Store using Query\n",
    "\n",
    "Remember the caption we overwritten earlier? We now want to ask our vector-document store to display us our electricity consumption graph by fetching the top associated document based on the query."
   ]
  },
  {
   "cell_type": "code",
   "execution_count": 18,
   "id": "475a0c40-17b9-4edf-8856-c3ab7e27d3fa",
   "metadata": {
    "execution": {
     "iopub.execute_input": "2025-07-18T05:18:47.580182Z",
     "iopub.status.busy": "2025-07-18T05:18:47.579161Z",
     "iopub.status.idle": "2025-07-18T05:18:47.782505Z",
     "shell.execute_reply": "2025-07-18T05:18:47.781297Z",
     "shell.execute_reply.started": "2025-07-18T05:18:47.580182Z"
    }
   },
   "outputs": [
    {
     "data": {
      "image/jpeg": "[encoded data removed]",
      "text/plain": [
       "<IPython.core.display.Image object>"
      ]
     },
     "metadata": {
      "image/jpeg": {
       "width": 900
      }
     },
     "output_type": "display_data"
    }
   ],
   "source": [
    "top_1_doc_from_query = retriever.invoke(\"Image of graph containing elecricity consumption?\")[0]\n",
    "display_base64_image(top_1_doc_from_query, 900)"
   ]
  },
  {
   "cell_type": "markdown",
   "id": "36afd592-8541-493c-b773-d549ed11a6f2",
   "metadata": {},
   "source": [
    "Seems like we got our graph and the vector store is returning the top document associated with our query."
   ]
  },
  {
   "cell_type": "markdown",
   "id": "bcdbcceb-c587-4f77-aecb-6e06f460ceb2",
   "metadata": {},
   "source": [
    "---"
   ]
  },
  {
   "cell_type": "markdown",
   "id": "e924ab35-11e4-4235-ae1d-81e9c2d610b7",
   "metadata": {},
   "source": [
    "## Full RAG with Ollama (gemma3) Question and Answering\n",
    "\n",
    "This defines a LangChain-style RAG pipeline for LLM question answering. It retrieves relevant documents from the vector-document store using the user’s question, parses the retrieved content (`parse_docs` helper function), constructs a prompt (`build_prompt` helper function), and sends it to an Ollama-hosted LLM ([gemma3](https://ollama.com/library/gemma3)). The final answer is then parsed into a string using `StrOutputParser()`. The use of `RunnableLambda` and `RunnablePassthrough()` allows flexible chaining of custom functions and inputs in the LangChain pipeline. I set the LLM's `temperature` param to 0 for the output to be consistent on repeated runs."
   ]
  },
  {
   "cell_type": "code",
   "execution_count": 19,
   "id": "8f21aae8-c91d-4daf-823d-e781fae1f97f",
   "metadata": {
    "execution": {
     "iopub.execute_input": "2025-07-18T05:18:47.783560Z",
     "iopub.status.busy": "2025-07-18T05:18:47.782505Z",
     "iopub.status.idle": "2025-07-18T05:18:47.813510Z",
     "shell.execute_reply": "2025-07-18T05:18:47.812842Z",
     "shell.execute_reply.started": "2025-07-18T05:18:47.783560Z"
    }
   },
   "outputs": [],
   "source": [
    "chain_llm_questions = {\n",
    "    \"context\": retriever | RunnableLambda(parse_docs),\n",
    "    \"question\": RunnablePassthrough(),\n",
    "} | RunnableLambda(build_prompt) | OllamaLLM(\n",
    "    model=ollama_model_name,\n",
    "    temperature=0,\n",
    ") | StrOutputParser()"
   ]
  },
  {
   "cell_type": "markdown",
   "id": "6873e6d9-a392-4d14-ab7f-1813cba9fd39",
   "metadata": {},
   "source": [
    "In the section below we will be assessing the performance of our makeshift RAG solution with a few questions based on our PDF."
   ]
  },
  {
   "cell_type": "markdown",
   "id": "26afe54c-0b36-43cc-8e17-062efef40ff5",
   "metadata": {},
   "source": [
    "### Q1: What is the customer name, address and account id?"
   ]
  },
  {
   "cell_type": "code",
   "execution_count": 20,
   "id": "4dcb0b15-d40b-4c1f-b91c-c40d9ba7d9f2",
   "metadata": {
    "execution": {
     "iopub.execute_input": "2025-07-18T05:18:47.814541Z",
     "iopub.status.busy": "2025-07-18T05:18:47.814541Z",
     "iopub.status.idle": "2025-07-18T05:18:52.230216Z",
     "shell.execute_reply": "2025-07-18T05:18:52.229068Z",
     "shell.execute_reply.started": "2025-07-18T05:18:47.814541Z"
    },
    "scrolled": true
   },
   "outputs": [
    {
     "data": {
      "text/markdown": [
       "Here’s the information based on the provided context:\n",
       "\n",
       "*   **Customer Name:** JILL DOE\n",
       "*   **Service Address:** 1627 Tulip Lane\n",
       "*   **Month Cycle:** March\n",
       "*   **Account ID:** 954137"
      ],
      "text/plain": [
       "<IPython.core.display.Markdown object>"
      ]
     },
     "metadata": {},
     "output_type": "display_data"
    }
   ],
   "source": [
    "q1 = \"What is the customer name, address, month cycle and account id?\"\n",
    "q1_model_resp = chain_llm_questions.invoke(q1)\n",
    "display(Markdown(q1_model_resp))"
   ]
  },
  {
   "attachments": {},
   "cell_type": "markdown",
   "id": "4cf1caf9-e5d4-42b3-9352-93a4066ca75c",
   "metadata": {},
   "source": [
    "---\n",
    "\n",
    "Our RAG solution did well on this extract! The information perfectly aligns what is in the PDF\n",
    "\n",
    "<img src=\"diagrams/customer.png\" width=\"400\"/>"
   ]
  },
  {
   "cell_type": "markdown",
   "id": "66328ba7-3080-4835-928f-adfc5665bffc",
   "metadata": {},
   "source": [
    "### Q2: What is the category of my electric use?"
   ]
  },
  {
   "cell_type": "code",
   "execution_count": 21,
   "id": "e6e832ac-7c09-4114-a3e3-ac01ddbe4f51",
   "metadata": {
    "execution": {
     "iopub.execute_input": "2025-07-18T05:18:52.231216Z",
     "iopub.status.busy": "2025-07-18T05:18:52.231216Z",
     "iopub.status.idle": "2025-07-18T05:18:52.667880Z",
     "shell.execute_reply": "2025-07-18T05:18:52.667880Z",
     "shell.execute_reply.started": "2025-07-18T05:18:52.231216Z"
    }
   },
   "outputs": [
    {
     "data": {
      "text/markdown": [
       "Above typical use."
      ],
      "text/plain": [
       "<IPython.core.display.Markdown object>"
      ]
     },
     "metadata": {},
     "output_type": "display_data"
    }
   ],
   "source": [
    "q2 = \"What is the category of my electric use?\"\n",
    "q2_model_resp = chain_llm_questions.invoke(q2)\n",
    "display(Markdown(q2_model_resp))"
   ]
  },
  {
   "cell_type": "markdown",
   "id": "2e7ae1f5-1a1a-4d03-b364-23028ea9f7b0",
   "metadata": {},
   "source": [
    "---\n",
    "\n",
    "Our RAG solution also did well on this extract! The information perfectly aligns what is in the PDF\n",
    "\n",
    "<img src=\"diagrams/category.png\" width=\"300\"/>"
   ]
  },
  {
   "cell_type": "markdown",
   "id": "e8564fce-3b8e-48fd-b574-2fb5f9f7e708",
   "metadata": {},
   "source": [
    "### Q3: What is my electricity usage this cycle in kWh?"
   ]
  },
  {
   "cell_type": "code",
   "execution_count": 22,
   "id": "e6d0e177-2402-4167-a580-5f89fc004b97",
   "metadata": {
    "execution": {
     "iopub.execute_input": "2025-07-18T05:18:52.670071Z",
     "iopub.status.busy": "2025-07-18T05:18:52.669069Z",
     "iopub.status.idle": "2025-07-18T05:18:53.554972Z",
     "shell.execute_reply": "2025-07-18T05:18:53.553962Z",
     "shell.execute_reply.started": "2025-07-18T05:18:52.670071Z"
    }
   },
   "outputs": [
    {
     "data": {
      "text/markdown": [
       "Your electric use: 18% more than similar nearby homes 125 kWh"
      ],
      "text/plain": [
       "<IPython.core.display.Markdown object>"
      ]
     },
     "metadata": {},
     "output_type": "display_data"
    }
   ],
   "source": [
    "q3 = \"What is my electricity usage this cycle in kWh?\"\n",
    "q3_model_resp = chain_llm_questions.invoke(q3)\n",
    "display(Markdown(q3_model_resp))"
   ]
  },
  {
   "cell_type": "markdown",
   "id": "62b9054a-64b3-42e3-b6ab-f3c49e5fa6a1",
   "metadata": {},
   "source": [
    "---\n",
    "\n",
    "Quite close but not quite. I was expecting here that the RAG solution would just say the customer consumed 125 kWh but it associated it to the similar nearby homes and our supposed consumption was 18% over 125 kWh. It seems that in this generation it hallucinated a bit.\n",
    "\n",
    "<img src=\"diagrams/consumption.png\" width=\"400\"/>"
   ]
  },
  {
   "cell_type": "markdown",
   "id": "5704624b-b9a0-45a6-92c7-cce013ef317b",
   "metadata": {},
   "source": [
    "### Q4: What are some tips for saving electricity?"
   ]
  },
  {
   "cell_type": "code",
   "execution_count": 23,
   "id": "bd326c00-ad3c-4438-ab0a-9033c2447a62",
   "metadata": {
    "execution": {
     "iopub.execute_input": "2025-07-18T05:18:53.555970Z",
     "iopub.status.busy": "2025-07-18T05:18:53.555970Z",
     "iopub.status.idle": "2025-07-18T05:18:56.132517Z",
     "shell.execute_reply": "2025-07-18T05:18:56.132517Z",
     "shell.execute_reply.started": "2025-07-18T05:18:53.555970Z"
    }
   },
   "outputs": [
    {
     "data": {
      "text/markdown": [
       "Here are the tips for saving electricity based on the provided text:\n",
       "\n",
       "*   Do full laundry loads.\n",
       "*   Caulk windows and doors.\n",
       "*   Charge your EV overnight (Rates are lower after 9pm).\n",
       "*   Look for an Energy Star label.\n",
       "*   Adjust thermostat settings.\n",
       "*   Pre-heat your home on cold days."
      ],
      "text/plain": [
       "<IPython.core.display.Markdown object>"
      ]
     },
     "metadata": {},
     "output_type": "display_data"
    }
   ],
   "source": [
    "q4 = \"What are some tips for saving electricity?\"\n",
    "q4_model_resp = chain_llm_questions.invoke(q4)\n",
    "display(Markdown(q4_model_resp))"
   ]
  },
  {
   "cell_type": "markdown",
   "id": "c3b3fea9-809e-4c26-a118-a1e8eff4e079",
   "metadata": {},
   "source": [
    "---\n",
    "\n",
    "Our RAG solution also performed well in this instance, it correctly matched the suggestions found in our PDF document. Notably, it retrieved a recommendation that wasn’t immediately visible in the displayed portion of the PDF: “Charge your EV overnight rates are lower after 9pm.”\n",
    "\n",
    "<img src=\"diagrams/laundry.png\" width=\"200\"/><img src=\"diagrams/tips.png\" width=\"500\"/><img src=\"diagrams/audit.png\" width=\"500\"/>"
   ]
  },
  {
   "cell_type": "code",
   "execution_count": 24,
   "id": "d1166f97-8d4b-45b1-8ac5-f352ec3bfd64",
   "metadata": {
    "execution": {
     "iopub.execute_input": "2025-07-18T05:18:56.133517Z",
     "iopub.status.busy": "2025-07-18T05:18:56.133517Z",
     "iopub.status.idle": "2025-07-18T05:18:56.149039Z",
     "shell.execute_reply": "2025-07-18T05:18:56.147837Z",
     "shell.execute_reply.started": "2025-07-18T05:18:56.133517Z"
    }
   },
   "outputs": [
    {
     "data": {
      "text/markdown": [
       "Home Energy Report: electricity March report Account number: 954137 Service address: 1627 Tulip Lane Find your personalized analysis of your electrical energy use. Scan this code or log in to your account at franklinenergy.com. Dear JILL DOE, here is your usage analysis for March. Your electric use: Above typical use 18% more than similar nearby homes You Similar nearby homes 125 kWh Efficient nearby homes 103 kWh 49 kWh - Nearby homes are defined as... Other homes with electricity Homes within 9 km Homes within +/- 300 sq. ft. Nearby homes are based on fuel, distance and size. Square footage is collected from public information sources. Efficient nearby homes are the top 15 per cent efficient of similar-sized homes nearby. Monthly savings tip: Do full laundry loads. you to Wy, ts 6% : use. to save energy each month. over for more savings ideas. » Waiting until you have a full load to run your laundry can save up to 6% of your energy use. Watch this space for new ways to save energy each month. Turn over for more savings ideas. Your top three tailored energy-saving tips Caulk windows and doors Save money and energy **Charge your EV overnight Rates are lower after 9pm** Look for an Energy Star label Adjust thermostat settings Biggest energy saving option One of the biggest money-wasters in your home is drafty windows and doors. Caulking drafty areas is a simple DIY project that will pay off. Older model electric vehicle overnight for the very inefficient. You can make up whether your home the cost of a new Energy Star refrigerator in energy savings in just a few years. charging feature that you can use. 78° Set your smart thermostat to save more energy during high-cost hours. Pre-heat your home on cold days so that you can save more energy. Your annual electricity use compared with similar and efficient homes 200 You 150 h W k 100 Similar Homes 50 Efficient Homes 0 April March Save more this spring Evaluate your energy efficiency Reduce use and save money on your electric bill with these thorough tips, from the kitchen to the laundry room. (-T°o =] a Bring in the professionals! Assess your home's energy efficiency with a Home Energy Audit. S Visit co.my.xcelenergy.com/s/residential/tips. Visit xcelenergy.com/homeenergyaudit. Seven year savings is the money you can save after purchase, installation and maintenance costs, as well as rebates, have been accounted for. All estimates are based on standard net home proﬁle assumptions; to improve the accuracy and further customize your Xcel Energy savings plan, visit xcelenergy.com. For questions, contact us at 800.895.4999. All the costs of each action are estimates; check your savings plan for links to local contractors and suppliers who can provide actual costs. This Home Energy Report was prepared speciﬁcally for you, and is provided to help you get the most value from your Xcel Energy service. This report is available only to you, and is based on your usage proﬁle and other publicly available information. A message from Xcel Energy, Inc., ©2023. All Rights Reserved."
      ],
      "text/plain": [
       "<IPython.core.display.Markdown object>"
      ]
     },
     "metadata": {},
     "output_type": "display_data"
    }
   ],
   "source": [
    "ev_info = texts[0].text.replace(\"\\n\\n\", \" \")\n",
    "ev_info = ev_info.replace(\"Charge your EV overnight Rates are lower after 9pm\", \"**Charge your EV overnight Rates are lower after 9pm**\")\n",
    "display(Markdown(ev_info))"
   ]
  },
  {
   "cell_type": "markdown",
   "id": "a312f759-5f5c-44a1-b248-fea97587eaf8",
   "metadata": {},
   "source": [
    "### Q5: How do I compare to other nearby homes in kwh consumption?"
   ]
  },
  {
   "cell_type": "code",
   "execution_count": 25,
   "id": "a839ef17-2460-4d2f-9e71-4d1b9bc052ec",
   "metadata": {
    "execution": {
     "iopub.execute_input": "2025-07-18T05:18:56.151048Z",
     "iopub.status.busy": "2025-07-18T05:18:56.150049Z",
     "iopub.status.idle": "2025-07-18T05:18:57.777444Z",
     "shell.execute_reply": "2025-07-18T05:18:57.776443Z",
     "shell.execute_reply.started": "2025-07-18T05:18:56.151048Z"
    }
   },
   "outputs": [
    {
     "data": {
      "text/markdown": [
       "According to the report, you used 18% more than similar nearby homes. Your similar nearby homes used 125 kWh, and efficient nearby homes used 103 kWh and 49 kWh."
      ],
      "text/plain": [
       "<IPython.core.display.Markdown object>"
      ]
     },
     "metadata": {},
     "output_type": "display_data"
    }
   ],
   "source": [
    "q5 = \"How do I compare to other nearby homes in kwh consumption?\"\n",
    "q5_model_resp = chain_llm_questions.invoke(q5)\n",
    "display(Markdown(q5_model_resp))"
   ]
  },
  {
   "cell_type": "markdown",
   "id": "6ef52c24-a6c7-407b-853d-949ec890d106",
   "metadata": {},
   "source": [
    "---\n",
    "\n",
    "Our RAG solution came close, but it made a few key mistakes. It incorrectly attributed the 125 kWh usage to similar nearby homes, when in fact that was our actual consumption. Additionally, it misclassified the two comparison values: 103 kWh and 49 kWh. The 103 kWh figure should have been associated with similar nearby homes, while only the 49 kWh value corresponds to efficient nearby homes. Unfortunately, this instance also exhibited some hallucination in the output.\n",
    "\n",
    "<img src=\"diagrams/consumption.png\" width=\"400\"/>"
   ]
  },
  {
   "cell_type": "markdown",
   "id": "420ff791-78dd-48b7-85a5-89a00f9570d7",
   "metadata": {},
   "source": [
    "### Q6: Compared to other nearby homes am I using too much electricity?"
   ]
  },
  {
   "cell_type": "code",
   "execution_count": 26,
   "id": "adb01bd2-125b-4517-a5db-96b64ff511d3",
   "metadata": {
    "execution": {
     "iopub.execute_input": "2025-07-18T05:18:57.778447Z",
     "iopub.status.busy": "2025-07-18T05:18:57.778447Z",
     "iopub.status.idle": "2025-07-18T05:18:58.662530Z",
     "shell.execute_reply": "2025-07-18T05:18:58.661529Z",
     "shell.execute_reply.started": "2025-07-18T05:18:57.778447Z"
    }
   },
   "outputs": [
    {
     "data": {
      "text/markdown": [
       "Yes, your electric use is 18% more than similar nearby homes."
      ],
      "text/plain": [
       "<IPython.core.display.Markdown object>"
      ]
     },
     "metadata": {},
     "output_type": "display_data"
    }
   ],
   "source": [
    "q6 = \"Compared to other nearby homes am I using too much electricity?\"\n",
    "q6_model_resp = chain_llm_questions.invoke(q6)\n",
    "display(Markdown(q6_model_resp))"
   ]
  },
  {
   "cell_type": "markdown",
   "id": "6bb88321-9823-4e89-a76c-4dacba4698c2",
   "metadata": {},
   "source": [
    "---\n",
    "\n",
    "At the very least, it still aligns with the overall message of the PDF, even if the exact figures weren’t correctly retrieved in the previous questions."
   ]
  },
  {
   "cell_type": "markdown",
   "id": "145d5539-ca60-430d-818c-de813a18f7ed",
   "metadata": {},
   "source": [
    "---"
   ]
  },
  {
   "cell_type": "markdown",
   "id": "897b2ce4-1459-43e1-b1aa-121257d9cd1a",
   "metadata": {},
   "source": [
    "## Learnings, Challenges and Suggestions"
   ]
  },
  {
   "cell_type": "markdown",
   "id": "9ebb4d07-fca2-41dd-bb90-3e271ac76795",
   "metadata": {},
   "source": [
    "### Learnings\n",
    "\n",
    "I was first introduced to Retrieval-Augmented Generation (RAG) during my Natural Language Processing course in my master's program. Most of the implementations I worked on involved textual data using the `llama-index` framework and using data sourced from PDFs, arXiv articles, and plain text files. Until recently, I hadn't explored the extraction of images, figures, or charts. Learning to implement RAG using a new framework like `LangChain`, especially in a multimodal context that supports various document types beyond text has been a fresh and exciting experience for me."
   ]
  },
  {
   "cell_type": "markdown",
   "id": "c0e4b156-7f01-494d-8f97-898d927a8559",
   "metadata": {},
   "source": [
    "### Challenges and Suggestions\n",
    "\n",
    "This pipeline required handling multiple modalities, including:\n",
    "\n",
    "- Text summarization\n",
    "- Image captioning\n",
    "- Text embedding for similarity\n",
    "- LLM-based question answering\n",
    "\n",
    "One of the key challenges was selecting the right open-source models. HuggingFace offers many options, but it’s often unclear which are best, especially for free use. Often requiring a lot of trial and errors to find a model that best fits the specific use case. Most tutorials rely on high-end models from providers like OpenAI and Amazon Bedrock to name a few, many of which are behind paywalls most especially for image based tasks.\n",
    "\n",
    "I experimented with several models and combined them to achieve acceptable results. However, the LLM in the RAG setup was a bit prone to hallucinations. To improve this, fine-tuning, possibly with instruction tuning techniques like [Large-Scale Instruction Synthesis](https://arxiv.org/abs/2502.03843) could help reduce errors.\n",
    "\n",
    "Lastly, extracting content from PDFs posed its own issues. While text extraction worked well, image and chart extraction using the `unstructured` python library (likely backed by Tesseract OCR) was less reliable and may require further tuning or alternative tools as the extracted images looked like they were cropped poorly."
   ]
  },
  {
   "cell_type": "markdown",
   "id": "066a842e-7076-45f8-81ef-6875f873a179",
   "metadata": {},
   "source": [
    "# References\n",
    "\n",
    "[1] [LangChain - Semi-structured and Multi-modal RAG](https://github.com/langchain-ai/langchain/blob/master/cookbook/Semi_structured_and_multi_modal_RAG.ipynb?ref=blog.langchain.dev)\n",
    "\n",
    "[2] [How to retrieve using multiple vectors per document](https://python.langchain.com/docs/how_to/multi_vector/)\n",
    "\n",
    "[3] [Multi-Modal RAG: A Practical Guide – Using vLLM to serve models for Multimodal Text Summarization, Table Processing, and Answer Synthesis](https://gautam75.medium.com/multi-modal-rag-a-practical-guide-99b0178c4fbb)"
   ]
  },
  {
   "cell_type": "markdown",
   "id": "12435b98-beda-4b81-abc8-224f1a5e065c",
   "metadata": {},
   "source": [
    "# Appendix"
   ]
  },
  {
   "cell_type": "markdown",
   "id": "3b05fc3c-5033-4370-b53b-241e441d816f",
   "metadata": {
    "execution": {
     "iopub.execute_input": "2025-07-18T04:08:43.123094Z",
     "iopub.status.busy": "2025-07-18T04:08:43.121564Z",
     "iopub.status.idle": "2025-07-18T04:08:43.131553Z",
     "shell.execute_reply": "2025-07-18T04:08:43.131553Z",
     "shell.execute_reply.started": "2025-07-18T04:08:43.123094Z"
    }
   },
   "source": [
    "## Unit Test Setup\n",
    "\n",
    "Checking the correctness of our RAG pipeline output based on their response vs. expected actual response. I will use of of the helper functions `query_and_validate` to do this which just takes in the two main strings (actual response and expected, plus a few logging params), ask an LLM ([gemma3](https://ollama.com/library/gemma3)) if they match enough resulting to `true`, `false` or  ``Can't determine``.\n",
    "\n",
    "Using an LLM to evaluate another model’s output introduces its own layer of subjectivity, raising questions about how one should properly test such systems. But for our purposes, this approach is a practical alternative to brute-force string comparisons, which can be too rigid and fail to capture semantic similarity."
   ]
  },
  {
   "cell_type": "markdown",
   "id": "94377b62-898b-4b32-8f28-4c84d3e99070",
   "metadata": {
    "execution": {
     "iopub.execute_input": "2025-07-18T04:30:25.519000Z",
     "iopub.status.busy": "2025-07-18T04:30:25.519000Z",
     "iopub.status.idle": "2025-07-18T04:30:25.532498Z",
     "shell.execute_reply": "2025-07-18T04:30:25.531288Z",
     "shell.execute_reply.started": "2025-07-18T04:30:25.519000Z"
    }
   },
   "source": [
    "### Q1 Test"
   ]
  },
  {
   "cell_type": "code",
   "execution_count": 27,
   "id": "e496ecc4-e23e-4956-a585-7fe1577c21e4",
   "metadata": {
    "execution": {
     "iopub.execute_input": "2025-07-18T05:18:58.664036Z",
     "iopub.status.busy": "2025-07-18T05:18:58.664036Z",
     "iopub.status.idle": "2025-07-18T05:18:58.928530Z",
     "shell.execute_reply": "2025-07-18T05:18:58.927398Z",
     "shell.execute_reply.started": "2025-07-18T05:18:58.664036Z"
    }
   },
   "outputs": [
    {
     "name": "stdout",
     "output_type": "stream",
     "text": [
      "Question:\n",
      "What is the customer name, address, month cycle and account id?\n",
      "\n",
      "Expected Response: \n",
      "Customer Name: JILL DOE\n",
      "Service Address: 1627 Tulip Lane\n",
      "Month Cycle: March\n",
      "Account ID: 954137\n",
      "\n",
      "Actual Response: Here’s the information based on the provided context:\n",
      "\n",
      "*   **Customer Name:** JILL DOE\n",
      "*   **Service Address:** 1627 Tulip Lane\n",
      "*   **Month Cycle:** March\n",
      "*   **Account ID:** 954137\n",
      "---\n",
      "(Answer with 'true' or 'false') Does the actual response match the expected response? \n",
      "\n",
      "\u001b[92mResponse: true\u001b[0m\n"
     ]
    },
    {
     "data": {
      "text/plain": [
       "True"
      ]
     },
     "execution_count": 27,
     "metadata": {},
     "output_type": "execute_result"
    }
   ],
   "source": [
    "query_and_validate(\n",
    "    model=ollama_model_name,\n",
    "    question=q1,\n",
    "    model_response=q1_model_resp,\n",
    "    expected_response=\"\"\"\n",
    "Customer Name: JILL DOE\n",
    "Service Address: 1627 Tulip Lane\n",
    "Month Cycle: March\n",
    "Account ID: 954137\n",
    "\"\"\",\n",
    ")"
   ]
  },
  {
   "cell_type": "markdown",
   "id": "f38095bf-134d-486f-8027-de27e649fa60",
   "metadata": {},
   "source": [
    "### Q2 Test"
   ]
  },
  {
   "cell_type": "code",
   "execution_count": 28,
   "id": "23eb0881-f1ef-4c9e-9f40-541e6210032c",
   "metadata": {
    "execution": {
     "iopub.execute_input": "2025-07-18T05:18:58.929929Z",
     "iopub.status.busy": "2025-07-18T05:18:58.929929Z",
     "iopub.status.idle": "2025-07-18T05:18:59.141940Z",
     "shell.execute_reply": "2025-07-18T05:18:59.141940Z",
     "shell.execute_reply.started": "2025-07-18T05:18:58.929929Z"
    }
   },
   "outputs": [
    {
     "name": "stdout",
     "output_type": "stream",
     "text": [
      "Question:\n",
      "What is the category of my electric use?\n",
      "\n",
      "Expected Response: Above Typical Use\n",
      "Actual Response: Above typical use.\n",
      "---\n",
      "(Answer with 'true' or 'false') Does the actual response match the expected response? \n",
      "\n",
      "\u001b[92mResponse: true\u001b[0m\n"
     ]
    },
    {
     "data": {
      "text/plain": [
       "True"
      ]
     },
     "execution_count": 28,
     "metadata": {},
     "output_type": "execute_result"
    }
   ],
   "source": [
    "query_and_validate(\n",
    "    model=ollama_model_name,\n",
    "    question=q2,\n",
    "    model_response=q2_model_resp,\n",
    "    expected_response=\"\"\"Above Typical Use\"\"\",\n",
    ")"
   ]
  },
  {
   "cell_type": "markdown",
   "id": "de591cc8-f4a1-4198-9e61-4b2261d0b2a5",
   "metadata": {},
   "source": [
    "### Q3 Test"
   ]
  },
  {
   "cell_type": "code",
   "execution_count": 29,
   "id": "f3db7b49-4809-4ac6-a17b-4ec54ebcc19e",
   "metadata": {
    "execution": {
     "iopub.execute_input": "2025-07-18T05:18:59.143578Z",
     "iopub.status.busy": "2025-07-18T05:18:59.143578Z",
     "iopub.status.idle": "2025-07-18T05:18:59.408312Z",
     "shell.execute_reply": "2025-07-18T05:18:59.407313Z",
     "shell.execute_reply.started": "2025-07-18T05:18:59.143578Z"
    }
   },
   "outputs": [
    {
     "name": "stdout",
     "output_type": "stream",
     "text": [
      "Question:\n",
      "What is my electricity usage this cycle in kWh?\n",
      "\n",
      "Expected Response: Your electric use: is 125 kWh which is 18% more than similar nearby homes\n",
      "Actual Response: Your electric use: 18% more than similar nearby homes 125 kWh\n",
      "---\n",
      "(Answer with 'true' or 'false') Does the actual response match the expected response? \n",
      "\n",
      "\u001b[91mResponse: false\u001b[0m\n"
     ]
    },
    {
     "data": {
      "text/plain": [
       "False"
      ]
     },
     "execution_count": 29,
     "metadata": {},
     "output_type": "execute_result"
    }
   ],
   "source": [
    "query_and_validate(\n",
    "    model=ollama_model_name,\n",
    "    question=q3,\n",
    "    model_response=q3_model_resp,\n",
    "    expected_response=\"Your electric use: is 125 kWh which is 18% more than similar nearby homes\",\n",
    ")"
   ]
  },
  {
   "cell_type": "markdown",
   "id": "0865d259-3f0c-4388-80a9-c2285ff3a560",
   "metadata": {},
   "source": [
    "### Q4 Test"
   ]
  },
  {
   "cell_type": "code",
   "execution_count": 30,
   "id": "9e38424a-fd41-4c36-92e0-77c12749caaa",
   "metadata": {
    "execution": {
     "iopub.execute_input": "2025-07-18T05:18:59.409634Z",
     "iopub.status.busy": "2025-07-18T05:18:59.408312Z",
     "iopub.status.idle": "2025-07-18T05:18:59.687761Z",
     "shell.execute_reply": "2025-07-18T05:18:59.686670Z",
     "shell.execute_reply.started": "2025-07-18T05:18:59.409634Z"
    }
   },
   "outputs": [
    {
     "name": "stdout",
     "output_type": "stream",
     "text": [
      "Question:\n",
      "What are some tips for saving electricity?\n",
      "\n",
      "Expected Response: \n",
      "    Do full laundry loads.\n",
      "    Caulk windows and doors.\n",
      "    Charge your EV overnight (Rates are lower after 9pm).\n",
      "    Look for an Energy Star label.\n",
      "    Adjust thermostat settings.\n",
      "    Pre-heat your home on cold days.    \n",
      "\n",
      "Actual Response: Here are the tips for saving electricity based on the provided text:\n",
      "\n",
      "*   Do full laundry loads.\n",
      "*   Caulk windows and doors.\n",
      "*   Charge your EV overnight (Rates are lower after 9pm).\n",
      "*   Look for an Energy Star label.\n",
      "*   Adjust thermostat settings.\n",
      "*   Pre-heat your home on cold days.\n",
      "---\n",
      "(Answer with 'true' or 'false') Does the actual response match the expected response? \n",
      "\n",
      "\u001b[92mResponse: true\u001b[0m\n"
     ]
    },
    {
     "data": {
      "text/plain": [
       "True"
      ]
     },
     "execution_count": 30,
     "metadata": {},
     "output_type": "execute_result"
    }
   ],
   "source": [
    "query_and_validate(\n",
    "    model=ollama_model_name,\n",
    "    question=q4,\n",
    "    model_response=q4_model_resp,\n",
    "    expected_response=\"\"\"\n",
    "    Do full laundry loads.\n",
    "    Caulk windows and doors.\n",
    "    Charge your EV overnight (Rates are lower after 9pm).\n",
    "    Look for an Energy Star label.\n",
    "    Adjust thermostat settings.\n",
    "    Pre-heat your home on cold days.    \n",
    "\"\"\",\n",
    ")"
   ]
  },
  {
   "cell_type": "markdown",
   "id": "6238f58e-5eab-4f4e-aa9e-c5d471dddc0d",
   "metadata": {
    "execution": {
     "iopub.execute_input": "2025-07-18T04:31:12.316831Z",
     "iopub.status.busy": "2025-07-18T04:31:12.315325Z",
     "iopub.status.idle": "2025-07-18T04:31:12.325885Z",
     "shell.execute_reply": "2025-07-18T04:31:12.324808Z",
     "shell.execute_reply.started": "2025-07-18T04:31:12.316831Z"
    }
   },
   "source": [
    "### Q5 Test"
   ]
  },
  {
   "cell_type": "code",
   "execution_count": 31,
   "id": "cf23be37-a81c-4c09-99fb-1a51fd9fc5fc",
   "metadata": {
    "execution": {
     "iopub.execute_input": "2025-07-18T05:18:59.689270Z",
     "iopub.status.busy": "2025-07-18T05:18:59.688266Z",
     "iopub.status.idle": "2025-07-18T05:18:59.936402Z",
     "shell.execute_reply": "2025-07-18T05:18:59.935224Z",
     "shell.execute_reply.started": "2025-07-18T05:18:59.689270Z"
    }
   },
   "outputs": [
    {
     "name": "stdout",
     "output_type": "stream",
     "text": [
      "Question:\n",
      "How do I compare to other nearby homes in kwh consumption?\n",
      "\n",
      "Expected Response: \n",
      "    According to the report, you used 125 kWh which is 18% more than similar nearby homes. \n",
      "    Similar nearby homes used around 103 kWh and efficient nearby homes used 49 kWh\n",
      "Actual Response: According to the report, you used 18% more than similar nearby homes. Your similar nearby homes used 125 kWh, and efficient nearby homes used 103 kWh and 49 kWh.\n",
      "---\n",
      "(Answer with 'true' or 'false') Does the actual response match the expected response? \n",
      "\n",
      "\u001b[91mResponse: false\u001b[0m\n"
     ]
    },
    {
     "data": {
      "text/plain": [
       "False"
      ]
     },
     "execution_count": 31,
     "metadata": {},
     "output_type": "execute_result"
    }
   ],
   "source": [
    "query_and_validate(\n",
    "    model=ollama_model_name,\n",
    "    question=q5,\n",
    "    model_response=q5_model_resp,\n",
    "    expected_response=\"\"\"\n",
    "    According to the report, you used 125 kWh which is 18% more than similar nearby homes. \n",
    "    Similar nearby homes used around 103 kWh and efficient nearby homes used 49 kWh\"\"\",\n",
    ")"
   ]
  },
  {
   "cell_type": "markdown",
   "id": "a9ae9159-1918-4f7e-afa6-0ca0e7ea7af9",
   "metadata": {},
   "source": [
    "### Q6 Test"
   ]
  },
  {
   "cell_type": "code",
   "execution_count": 32,
   "id": "4f7ad0e5-baa1-46e3-8b81-4c05349dbff1",
   "metadata": {
    "execution": {
     "iopub.execute_input": "2025-07-18T05:18:59.937413Z",
     "iopub.status.busy": "2025-07-18T05:18:59.937413Z",
     "iopub.status.idle": "2025-07-18T05:19:00.169776Z",
     "shell.execute_reply": "2025-07-18T05:19:00.167710Z",
     "shell.execute_reply.started": "2025-07-18T05:18:59.937413Z"
    }
   },
   "outputs": [
    {
     "name": "stdout",
     "output_type": "stream",
     "text": [
      "Question:\n",
      "Compared to other nearby homes am I using too much electricity?\n",
      "\n",
      "Expected Response: Yes, your electric use is 18% more than similar nearby homes.\n",
      "Actual Response: Yes, your electric use is 18% more than similar nearby homes.\n",
      "---\n",
      "(Answer with 'true' or 'false') Does the actual response match the expected response? \n",
      "\n",
      "\u001b[92mResponse: true\u001b[0m\n"
     ]
    },
    {
     "data": {
      "text/plain": [
       "True"
      ]
     },
     "execution_count": 32,
     "metadata": {},
     "output_type": "execute_result"
    }
   ],
   "source": [
    "query_and_validate(\n",
    "    model=ollama_model_name,\n",
    "    question=q6,\n",
    "    model_response=q6_model_resp,\n",
    "    expected_response=\"Yes, your electric use is 18% more than similar nearby homes.\",\n",
    ")"
   ]
  },
  {
   "cell_type": "markdown",
   "id": "634c56df-9ab8-4989-9d13-a4dfe6c56310",
   "metadata": {
    "execution": {
     "iopub.execute_input": "2025-07-18T04:32:03.334947Z",
     "iopub.status.busy": "2025-07-18T04:32:03.333950Z",
     "iopub.status.idle": "2025-07-18T04:32:03.345873Z",
     "shell.execute_reply": "2025-07-18T04:32:03.344865Z",
     "shell.execute_reply.started": "2025-07-18T04:32:03.334947Z"
    }
   },
   "source": [
    "### Performance 4/6\n",
    "\n",
    "RAG Pipeline on this sample size of questions got 4 out of 6 questions quite accurately. Other 2 questions were close but exhibited some form of hallucination"
   ]
  }
 ],
 "metadata": {
  "kernelspec": {
   "display_name": "Python 3 (ipykernel)",
   "language": "python",
   "name": "python3"
  },
  "language_info": {
   "codemirror_mode": {
    "name": "ipython",
    "version": 3
   },
   "file_extension": ".py",
   "mimetype": "text/x-python",
   "name": "python",
   "nbconvert_exporter": "python",
   "pygments_lexer": "ipython3",
   "version": "3.9.11"
  }
 },
 "nbformat": 4,
 "nbformat_minor": 5
}
