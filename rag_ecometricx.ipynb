{
 "cells": [
  {
   "cell_type": "markdown",
   "id": "9f265b8f-599b-42b0-bc3e-3aa2c2fce547",
   "metadata": {},
   "source": [
    "# Ecometrix Take Home\n",
    "\n",
    "You will be given a PDF document that contains both textual and graphical data. Your task is to:\n",
    "\n",
    "* Extract the textual and graphical information from the PDF pages.\n",
    "* Convert the extracted graphical data (such as charts or graphs) into a structured, queryable format.\n",
    "* Implement a system where users can ask questions and receive meaningful responses based on the extracted data.\n",
    "\n",
    "\n",
    "Requirements:\n",
    "* Document your approach and display your results in a Jupyter notebook (.ipynb)\n",
    "* Your solution should allow users to query both the extracted text and any data that was derived from the graphical elements (such as tables).\n",
    "* Provide brief explanations of your approach, choices made, and any challenges you encountered."
   ]
  },
  {
   "cell_type": "markdown",
   "id": "68f281b9-d369-420b-b25e-4934592d3e58",
   "metadata": {},
   "source": [
    "---"
   ]
  },
  {
   "attachments": {},
   "cell_type": "markdown",
   "id": "ed888d98-e93a-4a94-bd2e-22d489c60baa",
   "metadata": {},
   "source": [
    "## Solution Overview\n",
    "\n",
    "To tackle the the requirements listed above I will leverage a **Multimodal RAG** (Retrieval Augmented Generation). An overall architecture is shown below:\n",
    "![architecture overview](diagrams/architecture%20overview.png)\n",
    "\n",
    "The diagram starts with the input PDF file. The unstructured Python library is used to extract both textual and image content from the document. Text and image summarization models then generate summaries and captions based on the extracted content. These outputs are stored in a vector database, enabling retrieval in response to user queries. Additionally, a general-purpose LLM can be used to generate answers based on the top documents retrieved from the vector database. This entire multimodal RAG workflow is made possible through extensive use of the LangChain framework, which orchestrates the components for document loading, embedding, retrieval, and response generation.\n",
    "\n",
    "---"
   ]
  },
  {
   "cell_type": "markdown",
   "id": "194d206b-cd2c-429b-9c29-99d759ecfb61",
   "metadata": {
    "execution": {
     "iopub.execute_input": "2025-07-17T14:14:45.967447Z",
     "iopub.status.busy": "2025-07-17T14:14:45.966443Z",
     "iopub.status.idle": "2025-07-17T14:14:45.978345Z",
     "shell.execute_reply": "2025-07-17T14:14:45.977759Z",
     "shell.execute_reply.started": "2025-07-17T14:14:45.967447Z"
    }
   },
   "source": [
    "## Environment Setup\n",
    "**Python**\n",
    "- Create virtual environment and activate \\\n",
    "`python -m venv .venv` \\\n",
    "`.venv/Scripts/activate`\n",
    "\n",
    "- Install dependencies \\\n",
    "`pip install -r requirements.txt`\n",
    "\n",
    "\n",
    "\n",
    "**Unstructured Python Library dependency to properly read PDF**\n",
    "- Download [Poppler](https://github.com/oschwartz10612/poppler-windows/releases) extract and put bin directory to your `PATH`\n",
    "- Download and install [Tesseract](https://github.com/UB-Mannheim/tesseract/wiki) put bin directory to your `PATH`\n",
    "\n",
    "**Ollama Setup (Will act as LLM generator)**\n",
    "- Install [Ollama](https://ollama.com/download)\n",
    "- Get a model \\\n",
    "`ollama pull <model_name>` \\\n",
    "e.g. `ollama pull gemma2`\n",
    "- List models \\\n",
    "`ollama list`\n",
    "\n",
    "---"
   ]
  },
  {
   "cell_type": "markdown",
   "id": "94659bbd-34da-4ca3-9de5-dd65e8fbb72f",
   "metadata": {
    "execution": {
     "iopub.execute_input": "2025-07-17T14:32:54.229055Z",
     "iopub.status.busy": "2025-07-17T14:32:54.229055Z",
     "iopub.status.idle": "2025-07-17T14:32:54.238588Z",
     "shell.execute_reply": "2025-07-17T14:32:54.238588Z",
     "shell.execute_reply.started": "2025-07-17T14:32:54.229055Z"
    }
   },
   "source": [
    "## Directory Structure\n",
    "\n",
    "- `\\data\\` - Contains the singular PDF file\n",
    "- `\\diagrams\\` - Contains supplementary images and drawio diagram\n",
    "- `helper.py` – Contains utility functions to keep the notebook clean and organized\n",
    "- `rag_ecometricx.ipynb` - Main jupyter notebook\n",
    "- `README.md` - README\n",
    "- `requirements.txt` - Python dependencies"
   ]
  },
  {
   "cell_type": "markdown",
   "id": "c4452cec-333d-4bad-bc16-28a09dda52f2",
   "metadata": {
    "execution": {
     "iopub.execute_input": "2025-07-17T14:30:35.546456Z",
     "iopub.status.busy": "2025-07-17T14:30:35.546456Z",
     "iopub.status.idle": "2025-07-17T14:30:35.560723Z",
     "shell.execute_reply": "2025-07-17T14:30:35.559717Z",
     "shell.execute_reply.started": "2025-07-17T14:30:35.546456Z"
    }
   },
   "source": [
    "## Python Imports"
   ]
  },
  {
   "cell_type": "code",
   "execution_count": 1,
   "id": "8851ffb4-65e1-4ede-852f-0acd7586221b",
   "metadata": {
    "execution": {
     "iopub.execute_input": "2025-07-17T16:14:20.195793Z",
     "iopub.status.busy": "2025-07-17T16:14:20.195793Z",
     "iopub.status.idle": "2025-07-17T16:14:29.845642Z",
     "shell.execute_reply": "2025-07-17T16:14:29.845642Z",
     "shell.execute_reply.started": "2025-07-17T16:14:20.195793Z"
    }
   },
   "outputs": [],
   "source": [
    "import base64\n",
    "import uuid\n",
    "from base64 import b64decode\n",
    "from io import BytesIO\n",
    "\n",
    "from IPython.display import HTML, Image, Markdown, display\n",
    "from transformers import pipeline\n",
    "\n",
    "from langchain_core.output_parsers import StrOutputParser\n",
    "from langchain_core.prompts import ChatPromptTemplate\n",
    "from langchain_core.runnables import RunnableLambda, RunnablePassthrough\n",
    "from langchain_core.messages import HumanMessage\n",
    "from langchain_community.embeddings import OllamaEmbeddings\n",
    "from langchain_community.llms import Ollama\n",
    "from langchain_huggingface import HuggingFaceEmbeddings\n",
    "from langchain_chroma import Chroma\n",
    "from langchain_ollama import OllamaLLM\n",
    "from langchain.schema.document import Document\n",
    "from langchain.storage import InMemoryStore\n",
    "from langchain.retrievers.multi_vector import MultiVectorRetriever\n",
    "\n",
    "from unstructured.partition.pdf import partition_pdf\n",
    "from helper import *"
   ]
  },
  {
   "cell_type": "code",
   "execution_count": 2,
   "id": "db4a6ebb-a12f-4684-a299-72f659b39480",
   "metadata": {
    "execution": {
     "iopub.execute_input": "2025-07-17T16:14:29.846711Z",
     "iopub.status.busy": "2025-07-17T16:14:29.846711Z",
     "iopub.status.idle": "2025-07-17T16:14:29.862519Z",
     "shell.execute_reply": "2025-07-17T16:14:29.861176Z",
     "shell.execute_reply.started": "2025-07-17T16:14:29.846711Z"
    }
   },
   "outputs": [],
   "source": [
    "# !pip install -Uq \"unstructured[all-docs]\" pillow lxml pillow\n",
    "# !pip install -Uq chromadb tiktoken\n",
    "# !pip install -Uq langchain langchain-community langchain-openai langchain-groq\n",
    "# !pip install -Uq python_dotenv\n",
    "# !pip install -Uq tqdm ipywidgets \n",
    "# !pip install -Uq langchain_ollama langchain_huggingface"
   ]
  },
  {
   "cell_type": "markdown",
   "id": "fe1be57c-633b-4e64-a473-9df4d9222f25",
   "metadata": {},
   "source": [
    "## Set Important Variables\n",
    "- **`pdf_file_path`**: Path to the input PDF file.  \n",
    "- **`caption_model_name`**: Model used for generating captions from images.  \n",
    "- **`text_embedding_model_name`**: Model for embedding text into vectors for retrieval.  \n",
    "- **`ollama_model_name`**: Ollama model used for both embedding and answering questions.  "
   ]
  },
  {
   "cell_type": "code",
   "execution_count": 3,
   "id": "4dd3653f-957b-4149-85ec-e0bb1209e00a",
   "metadata": {
    "execution": {
     "iopub.execute_input": "2025-07-17T16:14:29.863551Z",
     "iopub.status.busy": "2025-07-17T16:14:29.862519Z",
     "iopub.status.idle": "2025-07-17T16:14:29.878236Z",
     "shell.execute_reply": "2025-07-17T16:14:29.877110Z",
     "shell.execute_reply.started": "2025-07-17T16:14:29.863551Z"
    }
   },
   "outputs": [],
   "source": [
    "pdf_file_path = \"data/test_info_extract.pdf\"\n",
    "caption_model_name = \"microsoft/git-base\"\n",
    "text_embedding_model_name = \"BAAI/bge-large-en-v1.5\"\n",
    "ollama_model_name = \"gemma3\""
   ]
  },
  {
   "cell_type": "markdown",
   "id": "cbacd275-8c84-46f3-ad1e-eb4625f012f3",
   "metadata": {},
   "source": [
    "## Getting Chunks from PDF input\n",
    "\n",
    "This section uses the unstructured library's `partition_pdf` function to split a PDF into structured chunks (like images and text) for further processing for use in RAG (Retrieval-Augmented Generation)"
   ]
  },
  {
   "cell_type": "code",
   "execution_count": 4,
   "id": "7da34a69-dc58-4911-8751-0880f1f365ad",
   "metadata": {
    "execution": {
     "iopub.execute_input": "2025-07-17T16:14:29.879334Z",
     "iopub.status.busy": "2025-07-17T16:14:29.878236Z",
     "iopub.status.idle": "2025-07-17T16:14:38.314648Z",
     "shell.execute_reply": "2025-07-17T16:14:38.313644Z",
     "shell.execute_reply.started": "2025-07-17T16:14:29.879334Z"
    }
   },
   "outputs": [
    {
     "name": "stderr",
     "output_type": "stream",
     "text": [
      "The `max_size` parameter is deprecated and will be removed in v4.26. Please specify in `size['longest_edge'] instead`.\n"
     ]
    }
   ],
   "source": [
    "chunks = partition_pdf(\n",
    "    filename=pdf_file_path,\n",
    "    infer_table_structure=True,            # extract tables\n",
    "    strategy=\"hi_res\",                     # mandatory to infer tables\n",
    "    extract_image_block_types=[\"Image\"],   # Add 'Table' to list to extract image of tables\n",
    "    extract_image_block_to_payload=True,   # if true, will extract base64 for API usage\n",
    "    chunking_strategy=\"by_title\",          # or 'basic'\n",
    "    max_characters=10000,                  # defaults to 500\n",
    "    combine_text_under_n_chars=2000,       # defaults to 0\n",
    "    new_after_n_chars=6000,\n",
    ")"
   ]
  },
  {
   "cell_type": "markdown",
   "id": "ecacb189-61b2-4989-80f0-012a72a6a511",
   "metadata": {},
   "source": [
    "Check data type of chunks, expecting:\n",
    "- `unstructured.documents.elements.CompositeElement` (Text and Image)\n",
    "- `unstructured.documents.elements.Table` (Tables if there are any)"
   ]
  },
  {
   "cell_type": "code",
   "execution_count": 5,
   "id": "594e92be-2e00-4901-b355-f7d7b7d547dc",
   "metadata": {
    "execution": {
     "iopub.execute_input": "2025-07-17T16:14:38.315647Z",
     "iopub.status.busy": "2025-07-17T16:14:38.315647Z",
     "iopub.status.idle": "2025-07-17T16:14:38.331201Z",
     "shell.execute_reply": "2025-07-17T16:14:38.330192Z",
     "shell.execute_reply.started": "2025-07-17T16:14:38.315647Z"
    }
   },
   "outputs": [
    {
     "data": {
      "text/plain": [
       "{\"<class 'unstructured.documents.elements.CompositeElement'>\"}"
      ]
     },
     "execution_count": 5,
     "metadata": {},
     "output_type": "execute_result"
    }
   ],
   "source": [
    "set([str(type(el)) for el in chunks])"
   ]
  },
  {
   "cell_type": "markdown",
   "id": "eddf34ad-79ca-49b1-9c59-34526c9cb9ab",
   "metadata": {},
   "source": [
    "Looks like we only have images and texts on our chunks. Let's try to see the number of chunks we have:"
   ]
  },
  {
   "cell_type": "code",
   "execution_count": 6,
   "id": "71662f95-6040-40c2-8e4f-6ee4d9240e6d",
   "metadata": {
    "execution": {
     "iopub.execute_input": "2025-07-17T16:14:38.333342Z",
     "iopub.status.busy": "2025-07-17T16:14:38.332201Z",
     "iopub.status.idle": "2025-07-17T16:14:38.345859Z",
     "shell.execute_reply": "2025-07-17T16:14:38.345859Z",
     "shell.execute_reply.started": "2025-07-17T16:14:38.332201Z"
    }
   },
   "outputs": [
    {
     "data": {
      "text/plain": [
       "1"
      ]
     },
     "execution_count": 6,
     "metadata": {},
     "output_type": "execute_result"
    }
   ],
   "source": [
    "len(chunks)"
   ]
  },
  {
   "cell_type": "markdown",
   "id": "f3e94b32-1185-45da-93f4-6415ddb4ff55",
   "metadata": {},
   "source": [
    "I think this is expected as we only have one short PDF file. Let's look at the unique specific types we have under `CompositeElement`:"
   ]
  },
  {
   "cell_type": "code",
   "execution_count": 7,
   "id": "1a74e8a6-9f0d-46cd-9833-9549395abc5b",
   "metadata": {
    "execution": {
     "iopub.execute_input": "2025-07-17T16:14:38.347555Z",
     "iopub.status.busy": "2025-07-17T16:14:38.347555Z",
     "iopub.status.idle": "2025-07-17T16:14:38.362389Z",
     "shell.execute_reply": "2025-07-17T16:14:38.361387Z",
     "shell.execute_reply.started": "2025-07-17T16:14:38.347555Z"
    }
   },
   "outputs": [
    {
     "data": {
      "text/plain": [
       "{'unstructured.documents.elements.Image',\n",
       " 'unstructured.documents.elements.NarrativeText',\n",
       " 'unstructured.documents.elements.Text',\n",
       " 'unstructured.documents.elements.Title'}"
      ]
     },
     "execution_count": 7,
     "metadata": {},
     "output_type": "execute_result"
    }
   ],
   "source": [
    "set([type(element).__module__ + \".\" + type(element).__name__ for element in chunks[0].metadata.orig_elements])"
   ]
  },
  {
   "cell_type": "markdown",
   "id": "9aafa856-17c9-4515-805b-393f41676118",
   "metadata": {},
   "source": [
    "It`s composed of tmages and various textual types.\n",
    "\n",
    "---"
   ]
  },
  {
   "cell_type": "markdown",
   "id": "893c6186-28fe-4baa-8ee9-7505148270eb",
   "metadata": {},
   "source": [
    "## Segregating Images and Texts"
   ]
  },
  {
   "cell_type": "markdown",
   "id": "c235e4cc-3007-4c00-a5e2-eb05fc5e12d9",
   "metadata": {},
   "source": [
    "### Separating Tables from Texts"
   ]
  },
  {
   "cell_type": "markdown",
   "id": "b84db0f2-cd8b-4bbf-bf4b-14de0411ead3",
   "metadata": {},
   "source": [
    "Since there are no tables tables chunk is empty and so most of the contents will be inside `texts`"
   ]
  },
  {
   "cell_type": "code",
   "execution_count": 8,
   "id": "35ef8314-4268-4f46-9008-b7be7d5c898b",
   "metadata": {
    "execution": {
     "iopub.execute_input": "2025-07-17T16:14:38.363707Z",
     "iopub.status.busy": "2025-07-17T16:14:38.362389Z",
     "iopub.status.idle": "2025-07-17T16:14:38.378228Z",
     "shell.execute_reply": "2025-07-17T16:14:38.377111Z",
     "shell.execute_reply.started": "2025-07-17T16:14:38.363707Z"
    }
   },
   "outputs": [],
   "source": [
    "tables = []\n",
    "texts = []\n",
    "\n",
    "for chunk in chunks:\n",
    "    if \"Table\" in str(type(chunk)):\n",
    "        tables.append(chunk)\n",
    "\n",
    "    if \"CompositeElement\" in str(type((chunk))):\n",
    "        texts.append(chunk)"
   ]
  },
  {
   "cell_type": "code",
   "execution_count": 9,
   "id": "5bb38c1f-ae13-41a1-a032-6729bd4335ed",
   "metadata": {
    "execution": {
     "iopub.execute_input": "2025-07-17T16:14:38.379241Z",
     "iopub.status.busy": "2025-07-17T16:14:38.378228Z",
     "iopub.status.idle": "2025-07-17T16:14:38.392868Z",
     "shell.execute_reply": "2025-07-17T16:14:38.392361Z",
     "shell.execute_reply.started": "2025-07-17T16:14:38.379241Z"
    }
   },
   "outputs": [
    {
     "name": "stdout",
     "output_type": "stream",
     "text": [
      "0\n",
      "1\n"
     ]
    }
   ],
   "source": [
    "print(len(tables))\n",
    "print(len(texts))"
   ]
  },
  {
   "cell_type": "markdown",
   "id": "de9b3257-380f-4ca2-9e8d-84a9cdba488a",
   "metadata": {},
   "source": [
    "### Getting Images"
   ]
  },
  {
   "cell_type": "markdown",
   "id": "9e3b1807-3feb-4a7b-bc80-396a406fbebc",
   "metadata": {},
   "source": [
    "Getting images from our chunk we have 11 images extracted"
   ]
  },
  {
   "cell_type": "code",
   "execution_count": 10,
   "id": "b0b098c4-38f3-428e-bd90-3cd1e2d631ca",
   "metadata": {
    "execution": {
     "iopub.execute_input": "2025-07-17T16:14:38.394872Z",
     "iopub.status.busy": "2025-07-17T16:14:38.393870Z",
     "iopub.status.idle": "2025-07-17T16:14:38.408886Z",
     "shell.execute_reply": "2025-07-17T16:14:38.407885Z",
     "shell.execute_reply.started": "2025-07-17T16:14:38.394872Z"
    }
   },
   "outputs": [],
   "source": [
    "images = get_images_base64(chunks)"
   ]
  },
  {
   "cell_type": "code",
   "execution_count": 11,
   "id": "808791ff-6d30-4a3a-aefa-98b59090e35f",
   "metadata": {
    "execution": {
     "iopub.execute_input": "2025-07-17T16:14:38.410392Z",
     "iopub.status.busy": "2025-07-17T16:14:38.408886Z",
     "iopub.status.idle": "2025-07-17T16:14:38.422593Z",
     "shell.execute_reply": "2025-07-17T16:14:38.422593Z",
     "shell.execute_reply.started": "2025-07-17T16:14:38.410392Z"
    }
   },
   "outputs": [
    {
     "data": {
      "text/plain": [
       "11"
      ]
     },
     "execution_count": 11,
     "metadata": {},
     "output_type": "execute_result"
    }
   ],
   "source": [
    "len(images)"
   ]
  },
  {
   "cell_type": "markdown",
   "id": "96483b74-ff06-479a-9fcb-c3838feadcd6",
   "metadata": {},
   "source": [
    "Displaying an image for us to inspect"
   ]
  },
  {
   "cell_type": "code",
   "execution_count": 12,
   "id": "ced32e67-83cb-47c2-a127-c35dcd6848b7",
   "metadata": {
    "execution": {
     "iopub.execute_input": "2025-07-17T16:14:38.423883Z",
     "iopub.status.busy": "2025-07-17T16:14:38.423883Z",
     "iopub.status.idle": "2025-07-17T16:14:38.438567Z",
     "shell.execute_reply": "2025-07-17T16:14:38.438567Z",
     "shell.execute_reply.started": "2025-07-17T16:14:38.423883Z"
    }
   },
   "outputs": [
    {
     "data": {
      "image/jpeg": "[encoded data removed]",
      "text/plain": [
       "<IPython.core.display.Image object>"
      ]
     },
     "metadata": {
      "image/jpeg": {
       "width": 1000
      }
     },
     "output_type": "display_data"
    }
   ],
   "source": [
    "display_base64_image(images[7])"
   ]
  },
  {
   "cell_type": "markdown",
   "id": "aac7fd74-7361-47f7-8f8e-a54a74dee4a0",
   "metadata": {},
   "source": [
    "---"
   ]
  },
  {
   "cell_type": "markdown",
   "id": "be7dd928-f56b-4455-a3a4-0dc0404c684f",
   "metadata": {},
   "source": [
    "## Text Summary and Image Caption"
   ]
  },
  {
   "cell_type": "markdown",
   "id": "c9891350-e24c-4167-af09-5b91110d3267",
   "metadata": {
    "execution": {
     "iopub.execute_input": "2025-07-17T15:10:28.800791Z",
     "iopub.status.busy": "2025-07-17T15:10:28.800791Z",
     "iopub.status.idle": "2025-07-17T15:10:28.809642Z",
     "shell.execute_reply": "2025-07-17T15:10:28.808461Z",
     "shell.execute_reply.started": "2025-07-17T15:10:28.800791Z"
    }
   },
   "source": [
    "### Text Summary\n",
    "\n",
    "For the text summary, I’ll use the original text itself as its own description since the content is brief and doesn't require further summarization."
   ]
  },
  {
   "cell_type": "code",
   "execution_count": 13,
   "id": "b33b9c99-a1a7-44d1-97fc-9492ee90ffb6",
   "metadata": {
    "execution": {
     "iopub.execute_input": "2025-07-17T16:14:38.440345Z",
     "iopub.status.busy": "2025-07-17T16:14:38.440345Z",
     "iopub.status.idle": "2025-07-17T16:14:38.454626Z",
     "shell.execute_reply": "2025-07-17T16:14:38.453625Z",
     "shell.execute_reply.started": "2025-07-17T16:14:38.440345Z"
    }
   },
   "outputs": [],
   "source": [
    "text_summary = [i.text for i in chunks]"
   ]
  },
  {
   "cell_type": "markdown",
   "id": "04d0e147-d40d-475d-9590-4d77dd56eeb4",
   "metadata": {
    "execution": {
     "iopub.execute_input": "2025-07-17T13:30:12.799076Z",
     "iopub.status.busy": "2025-07-17T13:30:12.799076Z",
     "iopub.status.idle": "2025-07-17T13:30:12.813518Z",
     "shell.execute_reply": "2025-07-17T13:30:12.813518Z",
     "shell.execute_reply.started": "2025-07-17T13:30:12.799076Z"
    }
   },
   "source": [
    "### Image captioning\n",
    "\n",
    "For image captioning, I will be using a HuggingFace model ([microsoft/git-base](https://huggingface.co/microsoft/git-base)) to do simple image captioning, this is not really a super good model for captioning and describing images like charts but its good enough for now as some image to text models are behind a pay wall like OpenAI which can be better in captioning."
   ]
  },
  {
   "cell_type": "code",
   "execution_count": 14,
   "id": "a3f1507f-e107-4899-a59b-a46adc5d4e5f",
   "metadata": {
    "execution": {
     "iopub.execute_input": "2025-07-17T16:14:38.455625Z",
     "iopub.status.busy": "2025-07-17T16:14:38.454626Z",
     "iopub.status.idle": "2025-07-17T16:15:10.974986Z",
     "shell.execute_reply": "2025-07-17T16:15:10.974481Z",
     "shell.execute_reply.started": "2025-07-17T16:14:38.455625Z"
    }
   },
   "outputs": [
    {
     "name": "stderr",
     "output_type": "stream",
     "text": [
      "Using a slow image processor as `use_fast` is unset and a slow processor was saved with this model. `use_fast=True` will be the default behavior in v4.52, even if the model was saved with a slow processor. This will result in minor differences in outputs. You'll still be able to use a slow processor with `use_fast=False`.\n",
      "Device set to use cpu\n"
     ]
    }
   ],
   "source": [
    "captioner = pipeline(\n",
    "    \"image-to-text\", \n",
    "    model=\"microsoft/git-base\",\n",
    "    device=0,\n",
    "    use_fast=True\n",
    ")\n",
    "img_cap_list = []\n",
    "for image in images:\n",
    "    caption = captioner(image)[0][\"generated_text\"]\n",
    "    img_cap_list.append(caption)"
   ]
  },
  {
   "cell_type": "markdown",
   "id": "29e28e40-1b19-42c2-a8d7-14fde317b1db",
   "metadata": {},
   "source": [
    "Checking the caption on the displayed image of a chart earlier:"
   ]
  },
  {
   "cell_type": "code",
   "execution_count": 15,
   "id": "1507a36a-93b3-44ea-ad64-b1848132eb17",
   "metadata": {
    "execution": {
     "iopub.execute_input": "2025-07-17T16:15:10.975990Z",
     "iopub.status.busy": "2025-07-17T16:15:10.975990Z",
     "iopub.status.idle": "2025-07-17T16:15:10.991769Z",
     "shell.execute_reply": "2025-07-17T16:15:10.990523Z",
     "shell.execute_reply.started": "2025-07-17T16:15:10.975990Z"
    }
   },
   "outputs": [
    {
     "data": {
      "text/plain": [
       "'a line graph showing the line of the line.'"
      ]
     },
     "execution_count": 15,
     "metadata": {},
     "output_type": "execute_result"
    }
   ],
   "source": [
    "img_cap_list[7]"
   ]
  },
  {
   "cell_type": "markdown",
   "id": "6fcae5ab-2079-45dd-a022-1e2008104706",
   "metadata": {},
   "source": [
    "It's kinda good but not good enough. For the purpose of getting a good retreival in the later steps lets just assume our captioning model did great and made this caption:"
   ]
  },
  {
   "cell_type": "code",
   "execution_count": 16,
   "id": "f1f4035f-429b-4b2a-964a-d180d4b236c4",
   "metadata": {
    "execution": {
     "iopub.execute_input": "2025-07-17T16:15:10.994096Z",
     "iopub.status.busy": "2025-07-17T16:15:10.992769Z",
     "iopub.status.idle": "2025-07-17T16:15:11.007031Z",
     "shell.execute_reply": "2025-07-17T16:15:11.006025Z",
     "shell.execute_reply.started": "2025-07-17T16:15:10.994096Z"
    }
   },
   "outputs": [],
   "source": [
    "img_cap_list[7] = \"line graph showing electricity consumption\""
   ]
  },
  {
   "cell_type": "markdown",
   "id": "fcfdbde5-12ba-41b7-962a-0f480636a264",
   "metadata": {},
   "source": [
    "## Setting Up the Vector and Document Store\n",
    "\n",
    "Here, we use ChromaDB as the vector store and an in-memory store for the documents. Each summary and corresponding document will be assigned a doc_id to support retrieval later on."
   ]
  },
  {
   "cell_type": "code",
   "execution_count": 17,
   "id": "334d9bce-25dc-43b6-9137-457089de9a4b",
   "metadata": {
    "execution": {
     "iopub.execute_input": "2025-07-17T16:15:11.008030Z",
     "iopub.status.busy": "2025-07-17T16:15:11.008030Z",
     "iopub.status.idle": "2025-07-17T16:15:15.947349Z",
     "shell.execute_reply": "2025-07-17T16:15:15.946342Z",
     "shell.execute_reply.started": "2025-07-17T16:15:11.008030Z"
    }
   },
   "outputs": [],
   "source": [
    "embeddings = HuggingFaceEmbeddings(model_name='BAAI/bge-large-en-v1.5')\n",
    "\n",
    "vector_store = Chroma(\n",
    "    collection_name=\"rag_vector_store\",\n",
    "    embedding_function=embeddings,\n",
    ")\n",
    "store = InMemoryStore()\n",
    "id_key = \"doc_id\"\n",
    "\n",
    "retriever = MultiVectorRetriever(\n",
    "    vectorstore=vector_store,\n",
    "    docstore=store,\n",
    "    id_key=id_key,\n",
    ")"
   ]
  },
  {
   "cell_type": "code",
   "execution_count": 18,
   "id": "7ffa5abe-a453-4bdb-a2f6-3b19fc0adce7",
   "metadata": {
    "execution": {
     "iopub.execute_input": "2025-07-17T16:15:15.948352Z",
     "iopub.status.busy": "2025-07-17T16:15:15.947349Z",
     "iopub.status.idle": "2025-07-17T16:15:17.797406Z",
     "shell.execute_reply": "2025-07-17T16:15:17.797406Z",
     "shell.execute_reply.started": "2025-07-17T16:15:15.948352Z"
    }
   },
   "outputs": [],
   "source": [
    "doc_ids = [str(uuid.uuid4()) for _ in texts]\n",
    "summary_texts = [\n",
    "    Document(page_content=summary, metadata={id_key: doc_ids[i]}) for i, summary in enumerate(text_summary)\n",
    "]\n",
    "retriever.vectorstore.add_documents(summary_texts)\n",
    "retriever.docstore.mset(list(zip(doc_ids, texts)))\n",
    "\n",
    "img_ids = [str(uuid.uuid4()) for _ in images]\n",
    "summary_img = [\n",
    "    Document(page_content=summary, metadata={id_key: img_ids[i]}) for i, summary in enumerate(img_cap_list)\n",
    "]\n",
    "retriever.vectorstore.add_documents(summary_img)\n",
    "retriever.docstore.mset(list(zip(img_ids, images)))"
   ]
  },
  {
   "cell_type": "markdown",
   "id": "81ca30e4-8644-4fc6-9cf3-c4cc13391bad",
   "metadata": {},
   "source": [
    "---"
   ]
  },
  {
   "cell_type": "markdown",
   "id": "a672d29e-7416-49cb-a6b9-6c9a4887c873",
   "metadata": {},
   "source": [
    "## Retrieval from the Vector and Document Store using Query\n",
    "\n",
    "Remember the caption we overwritten earlier? We now want to ask out PDF to display us our electricity consumption graph"
   ]
  },
  {
   "cell_type": "code",
   "execution_count": 19,
   "id": "475a0c40-17b9-4edf-8856-c3ab7e27d3fa",
   "metadata": {
    "execution": {
     "iopub.execute_input": "2025-07-17T16:15:17.798407Z",
     "iopub.status.busy": "2025-07-17T16:15:17.798407Z",
     "iopub.status.idle": "2025-07-17T16:15:17.986846Z",
     "shell.execute_reply": "2025-07-17T16:15:17.985706Z",
     "shell.execute_reply.started": "2025-07-17T16:15:17.798407Z"
    }
   },
   "outputs": [
    {
     "data": {
      "image/jpeg": "[encoded data removed]",
      "text/plain": [
       "<IPython.core.display.Image object>"
      ]
     },
     "metadata": {
      "image/jpeg": {
       "width": 1000
      }
     },
     "output_type": "display_data"
    }
   ],
   "source": [
    "display_base64_image(retriever.invoke(\"Image of graph containing elecricity consumption?\")[0])"
   ]
  },
  {
   "cell_type": "markdown",
   "id": "36afd592-8541-493c-b773-d549ed11a6f2",
   "metadata": {},
   "source": [
    "Seems like we got our graph and the vector store is returning the top document associated with our query."
   ]
  },
  {
   "cell_type": "markdown",
   "id": "bcdbcceb-c587-4f77-aecb-6e06f460ceb2",
   "metadata": {},
   "source": [
    "---"
   ]
  },
  {
   "cell_type": "markdown",
   "id": "e70c283c-e227-49cc-97db-73c1fe3cb313",
   "metadata": {},
   "source": [
    "## Full RAG with Ollama (gemma3) Question and Answering\n",
    "\n",
    "This defines a LangChain-style RAG pipeline for LLM question answering. It retrieves relevant documents from the vector store using the user’s question, parses the retrieved content (`parse_docs`), constructs a prompt (`build_prompt`), and sends it to an Ollama-hosted LLM (OllamaLLM). The final answer is then parsed into a string using `StrOutputParser()`. The use of `RunnableLambda` and `RunnablePassthrough()` allows flexible chaining of custom functions and inputs in the LangChain pipeline. I set the LLM's `tempreture` param to 0 for the output to be consistent on repeated runs."
   ]
  },
  {
   "cell_type": "code",
   "execution_count": 20,
   "id": "8f21aae8-c91d-4daf-823d-e781fae1f97f",
   "metadata": {
    "execution": {
     "iopub.execute_input": "2025-07-17T16:15:17.988343Z",
     "iopub.status.busy": "2025-07-17T16:15:17.986846Z",
     "iopub.status.idle": "2025-07-17T16:15:18.034693Z",
     "shell.execute_reply": "2025-07-17T16:15:18.034189Z",
     "shell.execute_reply.started": "2025-07-17T16:15:17.988343Z"
    }
   },
   "outputs": [],
   "source": [
    "chain_llm_questions = {\n",
    "    \"context\": retriever | RunnableLambda(parse_docs),\n",
    "    \"question\": RunnablePassthrough(),\n",
    "} | RunnableLambda(build_prompt) | OllamaLLM(\n",
    "    model=ollama_model_name,\n",
    "    temperature=0,\n",
    ") | StrOutputParser()"
   ]
  },
  {
   "cell_type": "markdown",
   "id": "6873e6d9-a392-4d14-ab7f-1813cba9fd39",
   "metadata": {},
   "source": [
    "In the section below we will be assessing the performance of our makeshift RAG solution with a few questions based on our PDF."
   ]
  },
  {
   "cell_type": "markdown",
   "id": "26afe54c-0b36-43cc-8e17-062efef40ff5",
   "metadata": {},
   "source": [
    "### Q1: What is the customer name, address and account id?"
   ]
  },
  {
   "cell_type": "code",
   "execution_count": 21,
   "id": "4dcb0b15-d40b-4c1f-b91c-c40d9ba7d9f2",
   "metadata": {
    "execution": {
     "iopub.execute_input": "2025-07-17T16:15:18.038706Z",
     "iopub.status.busy": "2025-07-17T16:15:18.037702Z",
     "iopub.status.idle": "2025-07-17T16:15:20.319105Z",
     "shell.execute_reply": "2025-07-17T16:15:20.318096Z",
     "shell.execute_reply.started": "2025-07-17T16:15:18.038706Z"
    },
    "scrolled": true
   },
   "outputs": [
    {
     "data": {
      "text/markdown": [
       "Here’s the information based on the provided context:\n",
       "\n",
       "*   **Customer Name:** JILL DOE\n",
       "*   **Service Address:** 1627 Tulip Lane\n",
       "*   **Month Cycle:** March\n",
       "*   **Account ID:** 954137"
      ],
      "text/plain": [
       "<IPython.core.display.Markdown object>"
      ]
     },
     "metadata": {},
     "output_type": "display_data"
    }
   ],
   "source": [
    "display(Markdown(chain_llm_questions.invoke(\"What is the customer name, address, month cycle and account id?\")))"
   ]
  },
  {
   "attachments": {},
   "cell_type": "markdown",
   "id": "4cf1caf9-e5d4-42b3-9352-93a4066ca75c",
   "metadata": {},
   "source": [
    "---\n",
    "\n",
    "Our RAG solution did well on this extract! The information perfectly aligns what is in the PDF!\n",
    "\n",
    "<img src=\"diagrams/customer.png\" width=\"400\"/>"
   ]
  },
  {
   "cell_type": "markdown",
   "id": "e8564fce-3b8e-48fd-b574-2fb5f9f7e708",
   "metadata": {},
   "source": [
    "### Q2: What is my electricity usage this cycle in kWh?"
   ]
  },
  {
   "cell_type": "code",
   "execution_count": 22,
   "id": "e6d0e177-2402-4167-a580-5f89fc004b97",
   "metadata": {
    "execution": {
     "iopub.execute_input": "2025-07-17T16:15:20.320094Z",
     "iopub.status.busy": "2025-07-17T16:15:20.320094Z",
     "iopub.status.idle": "2025-07-17T16:15:21.204244Z",
     "shell.execute_reply": "2025-07-17T16:15:21.203240Z",
     "shell.execute_reply.started": "2025-07-17T16:15:20.320094Z"
    }
   },
   "outputs": [
    {
     "data": {
      "text/markdown": [
       "Your electric use: 18% more than similar nearby homes 125 kWh"
      ],
      "text/plain": [
       "<IPython.core.display.Markdown object>"
      ]
     },
     "metadata": {},
     "output_type": "display_data"
    }
   ],
   "source": [
    "display(Markdown(chain_llm_questions.invoke(\"What is my electricity usage this cycle in kWh?\")))"
   ]
  },
  {
   "cell_type": "markdown",
   "id": "62b9054a-64b3-42e3-b6ab-f3c49e5fa6a1",
   "metadata": {},
   "source": [
    "---\n",
    "\n",
    "Quite close but not quite. I was expecting here that the RAG solution would just say the customer consumed 125 kWh. It seems that in this generation it hallucinated a bit.\n",
    "\n",
    "<img src=\"diagrams/consumption.png\" width=\"400\"/>"
   ]
  },
  {
   "cell_type": "markdown",
   "id": "5704624b-b9a0-45a6-92c7-cce013ef317b",
   "metadata": {},
   "source": [
    "### Q3: What are some tips for saving electricity?"
   ]
  },
  {
   "cell_type": "code",
   "execution_count": 23,
   "id": "bd326c00-ad3c-4438-ab0a-9033c2447a62",
   "metadata": {
    "execution": {
     "iopub.execute_input": "2025-07-17T16:15:21.204244Z",
     "iopub.status.busy": "2025-07-17T16:15:21.204244Z",
     "iopub.status.idle": "2025-07-17T16:15:23.744484Z",
     "shell.execute_reply": "2025-07-17T16:15:23.744484Z",
     "shell.execute_reply.started": "2025-07-17T16:15:21.204244Z"
    }
   },
   "outputs": [
    {
     "data": {
      "text/markdown": [
       "Here are the tips for saving electricity based on the provided text:\n",
       "\n",
       "*   Do full laundry loads.\n",
       "*   Caulk windows and doors.\n",
       "*   Charge your EV overnight (Rates are lower after 9pm).\n",
       "*   Look for an Energy Star label.\n",
       "*   Adjust thermostat settings.\n",
       "*   Pre-heat your home on cold days."
      ],
      "text/plain": [
       "<IPython.core.display.Markdown object>"
      ]
     },
     "metadata": {},
     "output_type": "display_data"
    }
   ],
   "source": [
    "display(Markdown(chain_llm_questions.invoke(\"What are some tips for saving electricity?\")))"
   ]
  },
  {
   "cell_type": "markdown",
   "id": "c3b3fea9-809e-4c26-a118-a1e8eff4e079",
   "metadata": {},
   "source": [
    "---\n",
    "\n",
    "Our RAG solution also did well here it matched with the suggestions in our PDF document and some generally good tips augmented from the LLM.\n",
    "\n",
    "<img src=\"diagrams/laundry.png\" width=\"200\"/><img src=\"diagrams/tips.png\" width=\"500\"/><img src=\"diagrams/audit.png\" width=\"500\"/>"
   ]
  },
  {
   "cell_type": "markdown",
   "id": "a312f759-5f5c-44a1-b248-fea97587eaf8",
   "metadata": {},
   "source": [
    "### Q4: How do I compare to other nearby homes in kwh consumption?"
   ]
  },
  {
   "cell_type": "code",
   "execution_count": 24,
   "id": "a839ef17-2460-4d2f-9e71-4d1b9bc052ec",
   "metadata": {
    "execution": {
     "iopub.execute_input": "2025-07-17T16:15:23.745991Z",
     "iopub.status.busy": "2025-07-17T16:15:23.745991Z",
     "iopub.status.idle": "2025-07-17T16:15:25.364433Z",
     "shell.execute_reply": "2025-07-17T16:15:25.364433Z",
     "shell.execute_reply.started": "2025-07-17T16:15:23.745991Z"
    }
   },
   "outputs": [
    {
     "data": {
      "text/markdown": [
       "According to the report, you used 18% more than similar nearby homes. Your similar nearby homes used 125 kWh, and efficient nearby homes used 103 kWh and 49 kWh."
      ],
      "text/plain": [
       "<IPython.core.display.Markdown object>"
      ]
     },
     "metadata": {},
     "output_type": "display_data"
    }
   ],
   "source": [
    "display(Markdown(chain_llm_questions.invoke(\"How do I compare to other nearby homes in kwh consumption?\")))"
   ]
  },
  {
   "cell_type": "markdown",
   "id": "6ef52c24-a6c7-407b-853d-949ec890d106",
   "metadata": {},
   "source": [
    "---\n",
    "\n",
    "Our RAG solution almost made it here. It incorrectly associated 125 kWH usage to similar nearby homes instead of it being our consumption and associated the 2 values (103 kWh and 49 kWh) for efficient nearby homes. Only 49 kWh should be associated with efficient nearby homes and 103 kWh should have been associated with similar nearby homes. Unfortunately this one also hallucinated a bit.\n",
    "\n",
    "<img src=\"diagrams/consumption.png\" width=\"400\"/>"
   ]
  },
  {
   "cell_type": "markdown",
   "id": "145d5539-ca60-430d-818c-de813a18f7ed",
   "metadata": {},
   "source": [
    "---"
   ]
  },
  {
   "cell_type": "markdown",
   "id": "897b2ce4-1459-43e1-b1aa-121257d9cd1a",
   "metadata": {},
   "source": [
    "## Learnings, Challenges and Suggestions"
   ]
  },
  {
   "cell_type": "markdown",
   "id": "9ebb4d07-fca2-41dd-bb90-3e271ac76795",
   "metadata": {},
   "source": [
    "### Learnings\n",
    "\n",
    "I have only come across RAG pipeline creation in my Natural Language Processing Subject in my Masters and most of the implementations we have made are mostly textual data coming from txt files, arxiv "
   ]
  },
  {
   "cell_type": "code",
   "execution_count": null,
   "id": "c685b973-130b-4c5d-9a37-a84c47e8087d",
   "metadata": {},
   "outputs": [],
   "source": []
  },
  {
   "cell_type": "code",
   "execution_count": null,
   "id": "03045c0e-754d-406e-8a91-f871aaea4a25",
   "metadata": {},
   "outputs": [],
   "source": []
  }
 ],
 "metadata": {
  "kernelspec": {
   "display_name": "Python 3 (ipykernel)",
   "language": "python",
   "name": "python3"
  },
  "language_info": {
   "codemirror_mode": {
    "name": "ipython",
    "version": 3
   },
   "file_extension": ".py",
   "mimetype": "text/x-python",
   "name": "python",
   "nbconvert_exporter": "python",
   "pygments_lexer": "ipython3",
   "version": "3.9.11"
  }
 },
 "nbformat": 4,
 "nbformat_minor": 5
}
